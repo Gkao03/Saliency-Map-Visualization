{
  "cells": [
    {
      "cell_type": "markdown",
      "metadata": {
        "id": "B5MM-4KYH2T3"
      },
      "source": [
        "# Install and import libraries and Data"
      ]
    },
    {
      "cell_type": "code",
      "source": [
        "!pip3 install torchvision==0.10.0 --quiet"
      ],
      "metadata": {
        "colab": {
          "base_uri": "https://localhost:8080/"
        },
        "id": "rslXNOYa-M_4",
        "outputId": "84d0d847-c413-4f96-ab16-9f444aa079ac"
      },
      "execution_count": null,
      "outputs": [
        {
          "output_type": "stream",
          "name": "stdout",
          "text": [
            "\u001b[K     |████████████████████████████████| 22.1 MB 1.2 MB/s \n",
            "\u001b[K     |████████████████████████████████| 831.4 MB 2.7 kB/s \n",
            "\u001b[31mERROR: pip's dependency resolver does not currently take into account all the packages that are installed. This behaviour is the source of the following dependency conflicts.\n",
            "torchtext 0.12.0 requires torch==1.11.0, but you have torch 1.9.0 which is incompatible.\n",
            "torchaudio 0.11.0+cu113 requires torch==1.11.0, but you have torch 1.9.0 which is incompatible.\u001b[0m\n",
            "\u001b[?25h"
          ]
        }
      ]
    },
    {
      "cell_type": "code",
      "source": [
        "from google.colab import drive\n",
        "drive.mount('/content/drive')"
      ],
      "metadata": {
        "colab": {
          "base_uri": "https://localhost:8080/"
        },
        "id": "7q60Cm1CpZlH",
        "outputId": "aec96dd2-f9ca-47d0-ee91-54f5bea17bc8"
      },
      "execution_count": null,
      "outputs": [
        {
          "output_type": "stream",
          "name": "stdout",
          "text": [
            "Mounted at /content/drive\n"
          ]
        }
      ]
    },
    {
      "cell_type": "code",
      "execution_count": null,
      "metadata": {
        "id": "yB9xtN0mItYs"
      },
      "outputs": [],
      "source": [
        "!git clone https://github.com/katelyn98/pytorch-grad-cam.git\n",
        "!cd pytorch_grad_cam && pip install -r requirements.txt\n",
        "!pip install requests --quiet\n",
        "# !pip install grad-cam --quiet"
      ]
    },
    {
      "cell_type": "code",
      "execution_count": null,
      "metadata": {
        "id": "ZJdJlGy2I6Od"
      },
      "outputs": [],
      "source": [
        "!git clone https://github.com/Gkao03/DeepGaze.git\n",
        "!mv DeepGaze/deepgaze_pytorch ./\n",
        "!mv DeepGaze/setup.py ./\n",
        "!rm -rf DeepGaze\n",
        "!wget https://github.com/matthias-k/DeepGaze/releases/download/v1.0.0/centerbias_mit1003.npy"
      ]
    },
    {
      "cell_type": "code",
      "execution_count": null,
      "metadata": {
        "id": "zcK-Z85XICaG"
      },
      "outputs": [],
      "source": [
        "import torchvision.transforms as transforms\n",
        "import torchvision\n",
        "from PIL import Image\n",
        "from torch.utils.data import Dataset, DataLoader\n",
        "import glob\n",
        "import os\n",
        "import torch\n",
        "import warnings\n",
        "warnings.filterwarnings('ignore')\n",
        "warnings.simplefilter('ignore')  \n",
        "import cv2\n",
        "import numpy as np\n",
        "import math\n",
        "import requests\n",
        "from scipy.misc import face\n",
        "from scipy.ndimage import zoom\n",
        "from scipy.special import logsumexp\n",
        "import matplotlib.pyplot as plt\n",
        "from google.colab.patches import cv2_imshow\n",
        "import deepgaze_pytorch\n",
        "\n",
        "%cd '/content/pytorch-grad-cam/'\n",
        "from pytorch_grad_cam import EigenCAM\n",
        "from pytorch_grad_cam.utils.image import show_cam_on_image, scale_cam_image\n",
        "from pytorch_grad_cam.utils.model_targets import FasterRCNNBoxScoreTarget\n",
        "\n",
        "DEVICE = 'cuda'"
      ]
    },
    {
      "cell_type": "markdown",
      "metadata": {
        "id": "NnKejgDmIK0i"
      },
      "source": [
        "#Data Loader"
      ]
    },
    {
      "cell_type": "markdown",
      "source": [
        "Download our trainval/test split of PASCAL2012VOC [here](https://drive.google.com/file/d/1p2ZkFiNQR0WbE28x8ukLzCUBjUy9XXM4/view?usp=sharing) and upload it to your google drive. Then copy the zip file to the Colab File System and unzip it. Be sure to change the path to original_data to match where you put it. Note: If you want to evaluate models on MIT1003 dataset, please download the images from [here](https://drive.google.com/file/d/1d9XhYXq7Wj6ANmKgvbmYDHTt0xtCGZxE/view?usp=sharing). You can also download the MIT1003 dataset [here](http://people.csail.mit.edu/tjudd/WherePeopleLook/index.html) - the images are in All Stimuli."
      ],
      "metadata": {
        "id": "6evvLCSDsjdM"
      }
    },
    {
      "cell_type": "code",
      "source": [
        "!cp /content/drive/MyDrive/VLR_Project/data/PASCAL2012/original_data.zip /content/ && unzip /content/original_data.zip"
      ],
      "metadata": {
        "id": "bygtlGWdWq6i"
      },
      "execution_count": null,
      "outputs": []
    },
    {
      "cell_type": "code",
      "execution_count": null,
      "metadata": {
        "id": "HQuHQ6NAIKfq"
      },
      "outputs": [],
      "source": [
        "data_pth = \"/content/original_data/JPEGImages/test\"\n",
        "mask_pth = \"/content/original_data/HumanAttentionMasks/\""
      ]
    },
    {
      "cell_type": "code",
      "execution_count": null,
      "metadata": {
        "id": "HY3plboeIWGR"
      },
      "outputs": [],
      "source": [
        "train_transform = transforms.Compose([transforms.Resize((512, 512)), \n",
        "                                      transforms.ToTensor(),\n",
        "                                      ])\n",
        "\n",
        "class MyDataset(Dataset):\n",
        "    def __init__(self, image_dir, mask_dir, transform=None):\n",
        "        self.image_dir = image_dir\n",
        "        self.transform = transform\n",
        "\n",
        "        self.image_paths = []\n",
        "        for file in os.listdir(image_dir):\n",
        "            if file.endswith(\".jpg\"):\n",
        "                self.image_paths.append(os.path.join(data_pth, file))\n",
        "\n",
        "        if mask_dir is not None:\n",
        "          self.mask_dir = mask_dir\n",
        "          self.mask_paths = []\n",
        "          for file in os.listdir(mask_dir):\n",
        "              if file.endswith(\".jpg\"):\n",
        "                  self.mask_paths.append(os.path.join(mask_pth, file))\n",
        "        else:\n",
        "          self.mask_dir = None\n",
        "\n",
        "    def __len__(self):\n",
        "        return len(self.image_paths)\n",
        "\n",
        "    def __getitem__(self, idx):\n",
        "        img_path = self.image_paths[idx]\n",
        "        img = Image.open(img_path)\n",
        "        tensor = self.transform(img).unsqueeze(0)\n",
        "\n",
        "        if self.mask_dir is not None:\n",
        "          mask_path = self.mask_paths[idx]\n",
        "          mask = np.array(Image.open(mask_path).convert(\"L\"))\n",
        "\n",
        "          mask = cv2.resize(mask, (512, 512))\n",
        "        else:\n",
        "          mask = None\n",
        "\n",
        "        return img, tensor, mask, img_path\n",
        "        \n",
        "\n",
        "def collate_fn(sample):\n",
        "    # only with batch size=1\n",
        "    img, tensor, mask, img_path = sample[0]\n",
        "    return img, tensor, mask, img_path\n",
        "\n",
        "#for test and evaluation\n",
        "train_dataset = MyDataset(image_dir=data_pth, mask_dir=mask_pth, transform=train_transform)\n",
        "train_loader = DataLoader(train_dataset, batch_size=1, shuffle=True, collate_fn=collate_fn)"
      ]
    },
    {
      "cell_type": "markdown",
      "metadata": {
        "id": "lbMhpLN0NJzx"
      },
      "source": [
        "# Helper Functions"
      ]
    },
    {
      "cell_type": "code",
      "execution_count": null,
      "metadata": {
        "id": "vL6DNu_ENLse"
      },
      "outputs": [],
      "source": [
        "def resizer(x, res=512):  # input is np array\n",
        "    # x = x.detach().cpu().numpy()\n",
        "    x = cv2.resize(x, (res, res))\n",
        "    rgb_img = x.copy()\n",
        "    x = np.float32(x) / 255\n",
        "    # transform = transforms.ToTensor()\n",
        "    # tensor = transform(img).unsqueeze(0)\n",
        "    return x\n",
        "\n",
        "def normalize_data(data):  # np array input\n",
        "    return (data - np.min(data)) / (np.max(data) - np.min(data))"
      ]
    },
    {
      "cell_type": "code",
      "source": [
        "def inpaint_black(attributions, img_orig, threshold = 95):\n",
        "  mask = attributions <= np.percentile(attributions, threshold)\n",
        "  im_mask = np.array(img_orig)\n",
        "  im_mask[~mask] = 0\n",
        "  return im_mask"
      ],
      "metadata": {
        "id": "wNgw0RrO_o-k"
      },
      "execution_count": null,
      "outputs": []
    },
    {
      "cell_type": "markdown",
      "metadata": {
        "id": "DLbZkinFJVLx"
      },
      "source": [
        "# Metrics"
      ]
    },
    {
      "cell_type": "code",
      "execution_count": null,
      "metadata": {
        "id": "EUPiEWVYJWrr"
      },
      "outputs": [],
      "source": [
        "def calcMAE(P, Y):\n",
        "    # takes two np arrays of the same shape\n",
        "    assert(P.shape == Y.shape)\n",
        "    W, H = P.shape\n",
        "    # print(\"DEEPGAZE: \", P)\n",
        "    # print(\"REGULAR: \", Y)\n",
        "    abs_diff = np.abs(P - Y)\n",
        "    return np.sum(abs_diff) / (W * H)\n",
        "\n",
        "def calcIOU(a, b, percentile=90):  # default 90% threshold \n",
        "    # takes two np arrays normalized to 0-1 of same shape\n",
        "    assert(a.shape == b.shape)\n",
        "    a_bool = a >= np.percentile(a, percentile)\n",
        "    b_bool = b >= np.percentile(b, percentile)\n",
        "\n",
        "    overlap = a_bool & b_bool # Logical AND\n",
        "    union = a_bool | b_bool # Logical OR\n",
        "\n",
        "    IOU = overlap.sum() / float(union.sum())\n",
        "    return IOU"
      ]
    },
    {
      "cell_type": "markdown",
      "metadata": {
        "id": "W0F-tEftJG8A"
      },
      "source": [
        "# Deep Gaze 2"
      ]
    },
    {
      "cell_type": "code",
      "execution_count": null,
      "metadata": {
        "colab": {
          "base_uri": "https://localhost:8080/"
        },
        "id": "h5zdfhayIgam",
        "outputId": "14aa6bce-94f6-4dfc-dc8a-b093960124d5"
      },
      "outputs": [
        {
          "output_type": "stream",
          "name": "stdout",
          "text": [
            "Loaded pretrained weights for efficientnet-b5\n"
          ]
        },
        {
          "output_type": "stream",
          "name": "stderr",
          "text": [
            "Using cache found in /root/.cache/torch/hub/pytorch_vision_v0.10.0\n",
            "Using cache found in /root/.cache/torch/hub/pytorch_vision_v0.10.0\n"
          ]
        }
      ],
      "source": [
        "# you can use DeepGazeI or DeepGazeIIE\n",
        "torch.hub._validate_not_a_forked_repo=lambda a,b,c: True\n",
        "deepgaze_model = deepgaze_pytorch.DeepGazeIIE(pretrained=True).to(DEVICE)"
      ]
    },
    {
      "cell_type": "markdown",
      "source": [
        "# Faster R-CNN"
      ],
      "metadata": {
        "id": "5Q3UbMT_L3SB"
      }
    },
    {
      "cell_type": "code",
      "source": [
        "frcnn_model = torchvision.models.detection.fasterrcnn_resnet50_fpn(pretrained=True)\n",
        "frcnn_model.eval().cuda()\n",
        "\n",
        "target_layers = [frcnn_model.backbone.body.layer4] #ssd\n",
        "cam = EigenCAM(frcnn_model,\n",
        "               target_layers, \n",
        "               use_cuda=torch.cuda.is_available())"
      ],
      "metadata": {
        "id": "WLP1bvTXL5HG",
        "colab": {
          "base_uri": "https://localhost:8080/",
          "height": 87,
          "referenced_widgets": [
            "a0559d6d44884e0a957a0c088ab0c9f7",
            "129245fa67e64b9dbb0e68e01ae3f1df",
            "2c056eab344e45e984274a8621cc2fe0",
            "bea4822495444392987600ac5e79bca1",
            "e6906b6bf70240fdaf6c72aaeb312480",
            "cd5d73287cf948418a6f4d9227551780",
            "1c85b714bcbf432baf851a52f7def0bb",
            "70cc39d3c46345148cec154965d72ea9",
            "61476578de1445d1b7e378dcd0b061ca",
            "c5a7dd19d6644c2788113e98f0e3dc2c",
            "c5fcd0c6c46c464e979cc165fa32e922"
          ]
        },
        "outputId": "fb1b324c-432e-445d-f33a-476bf22a2e4b"
      },
      "execution_count": null,
      "outputs": [
        {
          "output_type": "stream",
          "name": "stderr",
          "text": [
            "Downloading: \"https://download.pytorch.org/models/fasterrcnn_resnet50_fpn_coco-258fb6c6.pth\" to /root/.cache/torch/hub/checkpoints/fasterrcnn_resnet50_fpn_coco-258fb6c6.pth\n"
          ]
        },
        {
          "output_type": "display_data",
          "data": {
            "text/plain": [
              "  0%|          | 0.00/160M [00:00<?, ?B/s]"
            ],
            "application/vnd.jupyter.widget-view+json": {
              "version_major": 2,
              "version_minor": 0,
              "model_id": "a0559d6d44884e0a957a0c088ab0c9f7"
            }
          },
          "metadata": {}
        }
      ]
    },
    {
      "cell_type": "markdown",
      "metadata": {
        "id": "k7yALbZmJizx"
      },
      "source": [
        "# SSD"
      ]
    },
    {
      "cell_type": "code",
      "execution_count": null,
      "metadata": {
        "id": "8gvhQYWNJjya"
      },
      "outputs": [],
      "source": [
        "ssd_model = torchvision.models.detection.ssd300_vgg16(pretrained=True)\n",
        "ssd_model.eval().cuda()\n",
        "\n",
        "target_layers = [ssd_model.backbone.extra[1]] #ssd\n",
        "cam = EigenCAM(ssd_model,\n",
        "               target_layers, \n",
        "               use_cuda=torch.cuda.is_available())"
      ]
    },
    {
      "cell_type": "markdown",
      "metadata": {
        "id": "oQzoySHIJlDf"
      },
      "source": [
        "# Evaluate"
      ]
    },
    {
      "cell_type": "code",
      "source": [
        "coco_names = ['__background__', 'person', 'bicycle', 'car', 'motorcycle', 'airplane', \\\n",
        "              'bus', 'train', 'truck', 'boat', 'traffic light', 'fire hydrant', 'N/A', \n",
        "              'stop sign', 'parking meter', 'bench', 'bird', 'cat', 'dog', 'horse', 'sheep', \n",
        "              'cow', 'elephant', 'bear', 'zebra', 'giraffe', 'N/A', 'backpack', 'umbrella',\n",
        "              'N/A', 'N/A', 'handbag', 'tie', 'suitcase', 'frisbee', 'skis', 'snowboard',\n",
        "              'sports ball', 'kite', 'baseball bat', 'baseball glove', 'skateboard',\n",
        "              'surfboard', 'tennis racket', 'bottle', 'N/A', 'wine glass', 'cup', 'fork',\n",
        "              'knife', 'spoon', 'bowl', 'banana', 'apple', 'sandwich', 'orange',\n",
        "              'broccoli', 'carrot', 'hot dog', 'pizza', 'donut', 'cake', 'chair', 'couch',\n",
        "              'potted plant', 'bed', 'N/A', 'dining table', 'N/A', 'N/A', 'toilet',\n",
        "              'N/A', 'tv', 'laptop', 'mouse', 'remote', 'keyboard', 'cell phone', 'microwave',\n",
        "              'oven', 'toaster', 'sink', 'refrigerator', 'N/A', 'book', 'clock', 'vase',\n",
        "              'scissors', 'teddy bear', 'hair drier', 'toothbrush']\n",
        "\n",
        "len(coco_names)"
      ],
      "metadata": {
        "colab": {
          "base_uri": "https://localhost:8080/"
        },
        "id": "JfXLUMmKrqfC",
        "outputId": "87ca5ae9-9ae5-45e9-f8d6-5d6d33e10250"
      },
      "execution_count": null,
      "outputs": [
        {
          "output_type": "execute_result",
          "data": {
            "text/plain": [
              "91"
            ]
          },
          "metadata": {},
          "execution_count": 2
        }
      ]
    },
    {
      "cell_type": "code",
      "execution_count": null,
      "metadata": {
        "id": "RqoM5rLfL3ZI"
      },
      "outputs": [],
      "source": [
        "#prediction function for SSD model\n",
        "coco_names = ['__background__', 'person', 'bicycle', 'car', 'motorcycle', 'airplane', \\\n",
        "              'bus', 'train', 'truck', 'boat', 'traffic light', 'fire hydrant', 'N/A', \n",
        "              'stop sign', 'parking meter', 'bench', 'bird', 'cat', 'dog', 'horse', 'sheep', \n",
        "              'cow', 'elephant', 'bear', 'zebra', 'giraffe', 'N/A', 'backpack', 'umbrella',\n",
        "              'N/A', 'N/A', 'handbag', 'tie', 'suitcase', 'frisbee', 'skis', 'snowboard',\n",
        "              'sports ball', 'kite', 'baseball bat', 'baseball glove', 'skateboard',\n",
        "              'surfboard', 'tennis racket', 'bottle', 'N/A', 'wine glass', 'cup', 'fork',\n",
        "              'knife', 'spoon', 'bowl', 'banana', 'apple', 'sandwich', 'orange',\n",
        "              'broccoli', 'carrot', 'hot dog', 'pizza', 'donut', 'cake', 'chair', 'couch',\n",
        "              'potted plant', 'bed', 'N/A', 'dining table', 'N/A', 'N/A', 'toilet',\n",
        "              'N/A', 'tv', 'laptop', 'mouse', 'remote', 'keyboard', 'cell phone', 'microwave',\n",
        "              'oven', 'toaster', 'sink', 'refrigerator', 'N/A', 'book', 'clock', 'vase',\n",
        "              'scissors', 'teddy bear', 'hair drier', 'toothbrush']\n",
        "\n",
        "\n",
        "def predict(input_tensor, model, device, detection_threshold):\n",
        "    outputs = model(input_tensor)\n",
        "    pred_classes = [coco_names[i] for i in outputs[0]['labels'].cpu().numpy()]\n",
        "    pred_labels = outputs[0]['labels'].cpu().numpy()\n",
        "    pred_scores = outputs[0]['scores'].detach().cpu().numpy()\n",
        "    pred_bboxes = outputs[0]['boxes'].detach().cpu().numpy()\n",
        "    \n",
        "    boxes, classes, labels, indices = [], [], [], []\n",
        "    for index in range(len(pred_scores)):\n",
        "        if pred_scores[index] >= detection_threshold:\n",
        "            boxes.append(pred_bboxes[index].astype(np.int32))\n",
        "            classes.append(pred_classes[index])\n",
        "            labels.append(pred_labels[index])\n",
        "            indices.append(index)\n",
        "    boxes = np.int32(boxes)\n",
        "    return boxes, classes, labels, indices"
      ]
    },
    {
      "cell_type": "markdown",
      "metadata": {
        "id": "oz8jwHP9qTSZ"
      },
      "source": [
        "## Evaluate Dataset"
      ]
    },
    {
      "cell_type": "code",
      "execution_count": null,
      "metadata": {
        "id": "sdK8elMyJkNU"
      },
      "outputs": [],
      "source": [
        "mae_deepgaze_list = []\n",
        "iou_deepgaze_list = []\n",
        "\n",
        "mae_gt_list = []\n",
        "iou_gt_list = []\n",
        "\n",
        "for batch_idx, (img, tensor, mask, img_path) in enumerate(train_loader):\n",
        "    print(img_path)\n",
        "    print(img_path.split(\"/\")[-1].split(\".\")[0])\n",
        "    # print(tensor.shape)\n",
        "    img = np.array(img)\n",
        "    img = cv2.resize(img, (512, 512))\n",
        "    img_arr = np.float32(img) / 255\n",
        "    if mask is not None:\n",
        "      mask_arr = np.float32(mask) / 255\n",
        "    filename = os.path.basename(img_path)\n",
        "    tensor = tensor.cuda()\n",
        "    ####################################\n",
        "    #CHANGE THE MODEL BEING PASSED IN PREDICT TO WHAT MODEL YOU WANT TO EVALUATE!!!!\n",
        "    ####################################\n",
        "    boxes, classes, labels, indices = predict(tensor, frcnn_model, DEVICE, 0.9)\n",
        "    targets = [FasterRCNNBoxScoreTarget(labels=labels, bounding_boxes=boxes)]\n",
        "\n",
        "    grayscale_cam = cam(tensor, targets=targets)\n",
        "    grayscale_cam = grayscale_cam[0, :]\n",
        "    cam_image = show_cam_on_image(img_arr, grayscale_cam, use_rgb=True)\n",
        "\n",
        "    # deepgaze\n",
        "    centerbias_template = np.load('centerbias_mit1003.npy')\n",
        "    centerbias = zoom(centerbias_template, (img.shape[0]/centerbias_template.shape[0], img.shape[1]/centerbias_template.shape[1]), order=0, mode='nearest')\n",
        "    centerbias -= logsumexp(centerbias)\n",
        "    centerbias_tensor = torch.tensor([centerbias]).to(DEVICE)\n",
        "\n",
        "    log_density_prediction = deepgaze_model(tensor, centerbias_tensor)\n",
        "    log_density_prediction_squeezed = log_density_prediction.squeeze()\n",
        "    out_deepgaze = resizer(np.exp(log_density_prediction_squeezed.detach().cpu().numpy()))\n",
        "    out_deepgaze = normalize_data(out_deepgaze)\n",
        "\n",
        "    #metrics calculation for deepgaze\n",
        "    mae_deepgaze = calcMAE(out_deepgaze, grayscale_cam)\n",
        "    mae_deepgaze_list.append(mae_deepgaze)\n",
        "\n",
        "    iou_deepgaze = calcIOU(out_deepgaze, grayscale_cam)\n",
        "    iou_deepgaze_list.append(iou_deepgaze)\n",
        "\n",
        "    if mask is not None:\n",
        "      #metrics calculation for ground truth\n",
        "      mae_gt = calcMAE(mask, grayscale_cam)\n",
        "      mae_gt_list.append(mae_gt)\n",
        "\n",
        "      iou_gt = calcIOU(mask, grayscale_cam)\n",
        "      iou_gt_list.append(iou_gt)\n",
        "\n",
        "    print(f\"file {filename} has MAE {mae_deepgaze} and IOU {iou_deepgaze} for DeepGaze. Progress {batch_idx+1}/{len(train_loader)}\")\n",
        "    if mask is not None:\n",
        "      print(f\"file {filename} has MAE {mae_gt} and IOU {iou_gt} for Ground Truth. Progress {batch_idx+1}/{len(train_loader)}\")"
      ]
    },
    {
      "cell_type": "markdown",
      "metadata": {
        "id": "ZcLe_Grr3qUG"
      },
      "source": [
        "# Graphs for Metrics"
      ]
    },
    {
      "cell_type": "code",
      "execution_count": null,
      "metadata": {
        "id": "_6Wpf8r73phs"
      },
      "outputs": [],
      "source": [
        "mean_mae_deepgaze = sum(mae_deepgze_list) / len(mae_deepgaze_list)\n",
        "print(f\"mean MAE for deepgaze is {mean_mae_deepgaze}\")\n",
        "\n",
        "mean_iou_deepgaze = sum(iou_deepgze_list) / len(iou_deepgaze_list)\n",
        "print(f\"mean IOU for deepgaze is {mean_iou_deepgaze}\")\n",
        "\n",
        "mean_mae_gt = sum(mae_gt_list) / len(mae_gt_list)\n",
        "print(f\"mean MAE for human attention masks is {mean_mae_gt}\")\n",
        "\n",
        "mean_iou_gt = sum(iou_gt_list) / len(iou_gt_list)\n",
        "print(f\"mean IOU for human attention masks is {mean_iou_gt}\")"
      ]
    },
    {
      "cell_type": "code",
      "execution_count": null,
      "metadata": {
        "colab": {
          "base_uri": "https://localhost:8080/",
          "height": 295
        },
        "id": "EpvTXXi83sLY",
        "outputId": "5eeade0d-e2d7-4836-be09-7cfae9267fb3"
      },
      "outputs": [
        {
          "data": {
            "image/png": "[encoded data removed]",
            "text/plain": [
              "<Figure size 432x288 with 1 Axes>"
            ]
          },
          "metadata": {},
          "output_type": "display_data"
        }
      ],
      "source": [
        "plt.cla()\n",
        "plt.clf()\n",
        "plt.hist(mae_list, bins=20, density=True)\n",
        "plt.title(\"Model vs DeepGaze Mean Average Error Distribution\")\n",
        "plt.xlabel(\"MAE\")\n",
        "plt.savefig('/content/hist.png')\n",
        "\n",
        "plt.cla()\n",
        "plt.clf()\n",
        "plt.hist(iou_list, bins=20, density=True)\n",
        "plt.title(\"Model vs DeepGaze Mean IOU Distribution\")\n",
        "plt.xlabel(\"IOU\")\n",
        "plt.savefig('/content/iou.png')"
      ]
    }
  ],
  "metadata": {
    "accelerator": "GPU",
    "colab": {
      "collapsed_sections": [],
      "name": "EvaluateSaliencyMaps.ipynb",
      "provenance": []
    },
    "kernelspec": {
      "display_name": "Python 3",
      "name": "python3"
    },
    "language_info": {
      "name": "python"
    }
  },
  "nbformat": 4,
  "nbformat_minor": 0
}