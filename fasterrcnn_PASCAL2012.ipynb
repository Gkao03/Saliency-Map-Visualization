{
  "nbformat": 4,
  "nbformat_minor": 0,
  "metadata": {
    "colab": {
      "name": "fasterrcnn-PASCAL2012.ipynb",
      "provenance": [],
      "collapsed_sections": []
    },
    "kernelspec": {
      "name": "python3",
      "display_name": "Python 3"
    },
    "language_info": {
      "name": "python"
    },
    "accelerator": "GPU",
    "widgets": {
      "application/vnd.jupyter.widget-state+json": {
        "32e4059d95c041c1897345eb0725e789": {
          "model_module": "@jupyter-widgets/controls",
          "model_name": "HBoxModel",
          "model_module_version": "1.5.0",
          "state": {
            "_dom_classes": [],
            "_model_module": "@jupyter-widgets/controls",
            "_model_module_version": "1.5.0",
            "_model_name": "HBoxModel",
            "_view_count": null,
            "_view_module": "@jupyter-widgets/controls",
            "_view_module_version": "1.5.0",
            "_view_name": "HBoxView",
            "box_style": "",
            "children": [
              "IPY_MODEL_1f64b26e56ed47f4baa3342c5a0b8e04",
              "IPY_MODEL_ad60603101fb47bca99e605ebe4bd910",
              "IPY_MODEL_92996797969744c3a2dd976470e2a798"
            ],
            "layout": "IPY_MODEL_167298a83b4242119124ad01c1a02c9f"
          }
        },
        "1f64b26e56ed47f4baa3342c5a0b8e04": {
          "model_module": "@jupyter-widgets/controls",
          "model_name": "HTMLModel",
          "model_module_version": "1.5.0",
          "state": {
            "_dom_classes": [],
            "_model_module": "@jupyter-widgets/controls",
            "_model_module_version": "1.5.0",
            "_model_name": "HTMLModel",
            "_view_count": null,
            "_view_module": "@jupyter-widgets/controls",
            "_view_module_version": "1.5.0",
            "_view_name": "HTMLView",
            "description": "",
            "description_tooltip": null,
            "layout": "IPY_MODEL_d91a519596984320ba370631b7218c0d",
            "placeholder": "​",
            "style": "IPY_MODEL_aa234971ce1c4737bd0517aafaf4de97",
            "value": "100%"
          }
        },
        "ad60603101fb47bca99e605ebe4bd910": {
          "model_module": "@jupyter-widgets/controls",
          "model_name": "FloatProgressModel",
          "model_module_version": "1.5.0",
          "state": {
            "_dom_classes": [],
            "_model_module": "@jupyter-widgets/controls",
            "_model_module_version": "1.5.0",
            "_model_name": "FloatProgressModel",
            "_view_count": null,
            "_view_module": "@jupyter-widgets/controls",
            "_view_module_version": "1.5.0",
            "_view_name": "ProgressView",
            "bar_style": "success",
            "description": "",
            "description_tooltip": null,
            "layout": "IPY_MODEL_0ac87b99e8a041d1bab7c855f64b565e",
            "max": 167502836,
            "min": 0,
            "orientation": "horizontal",
            "style": "IPY_MODEL_4993a5e2683e485f89c7fab0e3e62739",
            "value": 167502836
          }
        },
        "92996797969744c3a2dd976470e2a798": {
          "model_module": "@jupyter-widgets/controls",
          "model_name": "HTMLModel",
          "model_module_version": "1.5.0",
          "state": {
            "_dom_classes": [],
            "_model_module": "@jupyter-widgets/controls",
            "_model_module_version": "1.5.0",
            "_model_name": "HTMLModel",
            "_view_count": null,
            "_view_module": "@jupyter-widgets/controls",
            "_view_module_version": "1.5.0",
            "_view_name": "HTMLView",
            "description": "",
            "description_tooltip": null,
            "layout": "IPY_MODEL_2df40971e7334e29ae3b273dea022c23",
            "placeholder": "​",
            "style": "IPY_MODEL_e03dbd1d03e24665bf4bb0ce4c785efa",
            "value": " 160M/160M [00:04&lt;00:00, 55.3MB/s]"
          }
        },
        "167298a83b4242119124ad01c1a02c9f": {
          "model_module": "@jupyter-widgets/base",
          "model_name": "LayoutModel",
          "model_module_version": "1.2.0",
          "state": {
            "_model_module": "@jupyter-widgets/base",
            "_model_module_version": "1.2.0",
            "_model_name": "LayoutModel",
            "_view_count": null,
            "_view_module": "@jupyter-widgets/base",
            "_view_module_version": "1.2.0",
            "_view_name": "LayoutView",
            "align_content": null,
            "align_items": null,
            "align_self": null,
            "border": null,
            "bottom": null,
            "display": null,
            "flex": null,
            "flex_flow": null,
            "grid_area": null,
            "grid_auto_columns": null,
            "grid_auto_flow": null,
            "grid_auto_rows": null,
            "grid_column": null,
            "grid_gap": null,
            "grid_row": null,
            "grid_template_areas": null,
            "grid_template_columns": null,
            "grid_template_rows": null,
            "height": null,
            "justify_content": null,
            "justify_items": null,
            "left": null,
            "margin": null,
            "max_height": null,
            "max_width": null,
            "min_height": null,
            "min_width": null,
            "object_fit": null,
            "object_position": null,
            "order": null,
            "overflow": null,
            "overflow_x": null,
            "overflow_y": null,
            "padding": null,
            "right": null,
            "top": null,
            "visibility": null,
            "width": null
          }
        },
        "d91a519596984320ba370631b7218c0d": {
          "model_module": "@jupyter-widgets/base",
          "model_name": "LayoutModel",
          "model_module_version": "1.2.0",
          "state": {
            "_model_module": "@jupyter-widgets/base",
            "_model_module_version": "1.2.0",
            "_model_name": "LayoutModel",
            "_view_count": null,
            "_view_module": "@jupyter-widgets/base",
            "_view_module_version": "1.2.0",
            "_view_name": "LayoutView",
            "align_content": null,
            "align_items": null,
            "align_self": null,
            "border": null,
            "bottom": null,
            "display": null,
            "flex": null,
            "flex_flow": null,
            "grid_area": null,
            "grid_auto_columns": null,
            "grid_auto_flow": null,
            "grid_auto_rows": null,
            "grid_column": null,
            "grid_gap": null,
            "grid_row": null,
            "grid_template_areas": null,
            "grid_template_columns": null,
            "grid_template_rows": null,
            "height": null,
            "justify_content": null,
            "justify_items": null,
            "left": null,
            "margin": null,
            "max_height": null,
            "max_width": null,
            "min_height": null,
            "min_width": null,
            "object_fit": null,
            "object_position": null,
            "order": null,
            "overflow": null,
            "overflow_x": null,
            "overflow_y": null,
            "padding": null,
            "right": null,
            "top": null,
            "visibility": null,
            "width": null
          }
        },
        "aa234971ce1c4737bd0517aafaf4de97": {
          "model_module": "@jupyter-widgets/controls",
          "model_name": "DescriptionStyleModel",
          "model_module_version": "1.5.0",
          "state": {
            "_model_module": "@jupyter-widgets/controls",
            "_model_module_version": "1.5.0",
            "_model_name": "DescriptionStyleModel",
            "_view_count": null,
            "_view_module": "@jupyter-widgets/base",
            "_view_module_version": "1.2.0",
            "_view_name": "StyleView",
            "description_width": ""
          }
        },
        "0ac87b99e8a041d1bab7c855f64b565e": {
          "model_module": "@jupyter-widgets/base",
          "model_name": "LayoutModel",
          "model_module_version": "1.2.0",
          "state": {
            "_model_module": "@jupyter-widgets/base",
            "_model_module_version": "1.2.0",
            "_model_name": "LayoutModel",
            "_view_count": null,
            "_view_module": "@jupyter-widgets/base",
            "_view_module_version": "1.2.0",
            "_view_name": "LayoutView",
            "align_content": null,
            "align_items": null,
            "align_self": null,
            "border": null,
            "bottom": null,
            "display": null,
            "flex": null,
            "flex_flow": null,
            "grid_area": null,
            "grid_auto_columns": null,
            "grid_auto_flow": null,
            "grid_auto_rows": null,
            "grid_column": null,
            "grid_gap": null,
            "grid_row": null,
            "grid_template_areas": null,
            "grid_template_columns": null,
            "grid_template_rows": null,
            "height": null,
            "justify_content": null,
            "justify_items": null,
            "left": null,
            "margin": null,
            "max_height": null,
            "max_width": null,
            "min_height": null,
            "min_width": null,
            "object_fit": null,
            "object_position": null,
            "order": null,
            "overflow": null,
            "overflow_x": null,
            "overflow_y": null,
            "padding": null,
            "right": null,
            "top": null,
            "visibility": null,
            "width": null
          }
        },
        "4993a5e2683e485f89c7fab0e3e62739": {
          "model_module": "@jupyter-widgets/controls",
          "model_name": "ProgressStyleModel",
          "model_module_version": "1.5.0",
          "state": {
            "_model_module": "@jupyter-widgets/controls",
            "_model_module_version": "1.5.0",
            "_model_name": "ProgressStyleModel",
            "_view_count": null,
            "_view_module": "@jupyter-widgets/base",
            "_view_module_version": "1.2.0",
            "_view_name": "StyleView",
            "bar_color": null,
            "description_width": ""
          }
        },
        "2df40971e7334e29ae3b273dea022c23": {
          "model_module": "@jupyter-widgets/base",
          "model_name": "LayoutModel",
          "model_module_version": "1.2.0",
          "state": {
            "_model_module": "@jupyter-widgets/base",
            "_model_module_version": "1.2.0",
            "_model_name": "LayoutModel",
            "_view_count": null,
            "_view_module": "@jupyter-widgets/base",
            "_view_module_version": "1.2.0",
            "_view_name": "LayoutView",
            "align_content": null,
            "align_items": null,
            "align_self": null,
            "border": null,
            "bottom": null,
            "display": null,
            "flex": null,
            "flex_flow": null,
            "grid_area": null,
            "grid_auto_columns": null,
            "grid_auto_flow": null,
            "grid_auto_rows": null,
            "grid_column": null,
            "grid_gap": null,
            "grid_row": null,
            "grid_template_areas": null,
            "grid_template_columns": null,
            "grid_template_rows": null,
            "height": null,
            "justify_content": null,
            "justify_items": null,
            "left": null,
            "margin": null,
            "max_height": null,
            "max_width": null,
            "min_height": null,
            "min_width": null,
            "object_fit": null,
            "object_position": null,
            "order": null,
            "overflow": null,
            "overflow_x": null,
            "overflow_y": null,
            "padding": null,
            "right": null,
            "top": null,
            "visibility": null,
            "width": null
          }
        },
        "e03dbd1d03e24665bf4bb0ce4c785efa": {
          "model_module": "@jupyter-widgets/controls",
          "model_name": "DescriptionStyleModel",
          "model_module_version": "1.5.0",
          "state": {
            "_model_module": "@jupyter-widgets/controls",
            "_model_module_version": "1.5.0",
            "_model_name": "DescriptionStyleModel",
            "_view_count": null,
            "_view_module": "@jupyter-widgets/base",
            "_view_module_version": "1.2.0",
            "_view_name": "StyleView",
            "description_width": ""
          }
        }
      }
    }
  },
  "cells": [
    {
      "cell_type": "code",
      "source": [
        "# P100 or factory reset runtime!\n",
        "!nvidia-smi"
      ],
      "metadata": {
        "id": "leWU3earI4zd"
      },
      "execution_count": null,
      "outputs": []
    },
    {
      "cell_type": "code",
      "execution_count": null,
      "metadata": {
        "colab": {
          "base_uri": "https://localhost:8080/"
        },
        "id": "2_iwqplMXLu3",
        "outputId": "abeddb1e-cc68-4e06-f6ad-8c3657f714bf"
      },
      "outputs": [
        {
          "output_type": "stream",
          "name": "stdout",
          "text": [
            "Mounted at /content/gdrive\n"
          ]
        }
      ],
      "source": [
        "from google.colab import drive\n",
        "drive.mount('/content/gdrive')"
      ]
    },
    {
      "cell_type": "markdown",
      "source": [
        "images currently in gdrive are faulty. copy original_data.zip to disk"
      ],
      "metadata": {
        "id": "6V5OU7rc1bv_"
      }
    },
    {
      "cell_type": "code",
      "source": [
        "!ls \"/content/gdrive/MyDrive/VLR_Project/data/PASCAL2012/Annotations/trainval\" -1 | wc -l"
      ],
      "metadata": {
        "colab": {
          "base_uri": "https://localhost:8080/"
        },
        "id": "wvgIcDhSY8W5",
        "outputId": "0688f36f-f62d-4331-b096-32db54adcbdf"
      },
      "execution_count": null,
      "outputs": [
        {
          "output_type": "stream",
          "name": "stdout",
          "text": [
            "16227\n"
          ]
        }
      ]
    },
    {
      "cell_type": "code",
      "source": [
        "!ls \"/content/gdrive/MyDrive/VLR_Project/data/PASCAL2012/JPEGImages/trainval\" -1 | wc -l"
      ],
      "metadata": {
        "colab": {
          "base_uri": "https://localhost:8080/"
        },
        "id": "KHRyNowSZrSK",
        "outputId": "024934b3-65df-4130-a2f3-039470aa55d5"
      },
      "execution_count": null,
      "outputs": [
        {
          "output_type": "stream",
          "name": "stdout",
          "text": [
            "16237\n"
          ]
        }
      ]
    },
    {
      "cell_type": "markdown",
      "source": [
        "probably want to copy images to local folder so image fetching is faster"
      ],
      "metadata": {
        "id": "IerJwgUMdUD9"
      }
    },
    {
      "cell_type": "code",
      "source": [
        "!cp \"/content/gdrive/MyDrive/VLR_Project/data/PASCAL2012/original_data.zip\" /content/"
      ],
      "metadata": {
        "id": "0lcXSBcm1BQV"
      },
      "execution_count": null,
      "outputs": []
    },
    {
      "cell_type": "code",
      "source": [
        "!unzip original_data.zip"
      ],
      "metadata": {
        "id": "nQnMc-eY1MYj"
      },
      "execution_count": null,
      "outputs": []
    },
    {
      "cell_type": "markdown",
      "source": [
        "# Copy augmented images to disk"
      ],
      "metadata": {
        "id": "Jw3cCVSRGV0f"
      }
    },
    {
      "cell_type": "code",
      "source": [
        "%cd /content"
      ],
      "metadata": {
        "colab": {
          "base_uri": "https://localhost:8080/"
        },
        "id": "ELgjiOgeGrFQ",
        "outputId": "db90fbf1-d858-479a-f1da-cd302f6409fb"
      },
      "execution_count": null,
      "outputs": [
        {
          "output_type": "stream",
          "name": "stdout",
          "text": [
            "/content\n"
          ]
        }
      ]
    },
    {
      "cell_type": "code",
      "source": [
        "!ls"
      ],
      "metadata": {
        "colab": {
          "base_uri": "https://localhost:8080/"
        },
        "id": "rySzvwQYGtI7",
        "outputId": "08b15916-4890-461c-ccc3-b8e450ad4f7c"
      },
      "execution_count": null,
      "outputs": [
        {
          "output_type": "stream",
          "name": "stdout",
          "text": [
            "gdrive\tsample_data\n"
          ]
        }
      ]
    },
    {
      "cell_type": "code",
      "source": [
        "!cp \"/content/gdrive/MyDrive/VLR_Project/data/PASCAL2012/FasterRCNN-Augmented.zip\" /content/"
      ],
      "metadata": {
        "id": "MUM9VCrAGX2a"
      },
      "execution_count": null,
      "outputs": []
    },
    {
      "cell_type": "code",
      "source": [
        "!unzip FasterRCNN-Augmented.zip"
      ],
      "metadata": {
        "id": "es1TSzvxGhYX"
      },
      "execution_count": null,
      "outputs": []
    },
    {
      "cell_type": "markdown",
      "source": [
        "# Copy Inpainted Images to disk"
      ],
      "metadata": {
        "id": "eRj4VvQpkc-g"
      }
    },
    {
      "cell_type": "code",
      "source": [
        "%cd /content\n",
        "!ls"
      ],
      "metadata": {
        "colab": {
          "base_uri": "https://localhost:8080/"
        },
        "id": "qes9xcv8kewm",
        "outputId": "19f19e9e-d280-4ecf-e8d3-bf2f0eb6c2b6"
      },
      "execution_count": null,
      "outputs": [
        {
          "output_type": "stream",
          "name": "stdout",
          "text": [
            "/content\n",
            "gdrive\tsample_data\n"
          ]
        }
      ]
    },
    {
      "cell_type": "code",
      "source": [
        "!cp \"/content/gdrive/MyDrive/VLR_Project/data/PASCAL2012/FasterRCNN-Inpainted.zip\" /content/"
      ],
      "metadata": {
        "id": "i5DipSzJkiLJ"
      },
      "execution_count": null,
      "outputs": []
    },
    {
      "cell_type": "code",
      "source": [
        "!unzip FasterRCNN-Inpainted.zip"
      ],
      "metadata": {
        "id": "QWeQIKvzkyU2"
      },
      "execution_count": null,
      "outputs": []
    },
    {
      "cell_type": "markdown",
      "source": [
        "# make sure ann and images have same count"
      ],
      "metadata": {
        "id": "mQSy01WY1jYU"
      }
    },
    {
      "cell_type": "code",
      "source": [
        "!ls \"/content/original_data/Annotations/trainval\" -1 | wc -l"
      ],
      "metadata": {
        "colab": {
          "base_uri": "https://localhost:8080/"
        },
        "id": "mSY1VJ7j1lmp",
        "outputId": "05fde02d-58a0-4768-ca0d-d4515a4cf369"
      },
      "execution_count": null,
      "outputs": [
        {
          "output_type": "stream",
          "name": "stdout",
          "text": [
            "16227\n"
          ]
        }
      ]
    },
    {
      "cell_type": "code",
      "source": [
        "!ls \"/content/original_data/JPEGImages/trainval\" -1 | wc -l"
      ],
      "metadata": {
        "colab": {
          "base_uri": "https://localhost:8080/"
        },
        "id": "U9huWyPb1n9Y",
        "outputId": "7ccf4d48-c38c-4ea0-f9f3-a0ae55c50063"
      },
      "execution_count": null,
      "outputs": [
        {
          "output_type": "stream",
          "name": "stdout",
          "text": [
            "16227\n"
          ]
        }
      ]
    },
    {
      "cell_type": "markdown",
      "source": [
        "# test an xml file"
      ],
      "metadata": {
        "id": "UPRNVJ1NaTCy"
      }
    },
    {
      "cell_type": "code",
      "source": [
        "xml_path = \"/content/gdrive/MyDrive/VLR_Project/data/PASCAL2012/Annotations/trainval/2007_000033.xml\""
      ],
      "metadata": {
        "id": "j8mR7nriZr8o"
      },
      "execution_count": null,
      "outputs": []
    },
    {
      "cell_type": "code",
      "source": [
        "import os\n",
        "print(os.path.exists(xml_path))"
      ],
      "metadata": {
        "colab": {
          "base_uri": "https://localhost:8080/"
        },
        "id": "Gol0UKyvbWGG",
        "outputId": "8bcdcadd-81ff-4885-db5a-af4a5e477456"
      },
      "execution_count": null,
      "outputs": [
        {
          "output_type": "stream",
          "name": "stdout",
          "text": [
            "True\n"
          ]
        }
      ]
    },
    {
      "cell_type": "code",
      "source": [
        "import xml.etree.ElementTree as ET\n",
        "\n",
        "tree = ET.parse(xml_path)\n",
        "root = tree.getroot()\n",
        "\n",
        "# size = root.findall(\"size\")\n",
        "\n",
        "# for s in size:\n",
        "#     width = s.findall(\"width\")[0].text\n",
        "#     print(width)\n",
        "\n",
        "b = []\n",
        "\n",
        "for child in root:\n",
        "    for t in child:\n",
        "        if t.tag == 'bndbox':\n",
        "            xmin = float(t.findall(\"xmin\")[0].text)\n",
        "            ymin = float(t.findall(\"ymin\")[0].text)\n",
        "            xmax = float(t.findall(\"xmax\")[0].text)\n",
        "            ymax = float(t.findall(\"ymax\")[0].text)\n",
        "            print(xmin, ymin, xmax, ymax)\n",
        "            assert xmin < xmax, f\"xmin not less than xmax\"\n",
        "            assert ymin < ymax, f\"ymin not less than ymax\""
      ],
      "metadata": {
        "colab": {
          "base_uri": "https://localhost:8080/"
        },
        "id": "XD-kKBKW_0NX",
        "outputId": "fb5b6f39-1e4d-4325-fc63-88639764e55f"
      },
      "execution_count": null,
      "outputs": [
        {
          "output_type": "stream",
          "name": "stdout",
          "text": [
            "9.0 107.0 499.0 263.0\n",
            "421.0 200.0 482.0 226.0\n",
            "325.0 188.0 411.0 223.0\n"
          ]
        }
      ]
    },
    {
      "cell_type": "markdown",
      "source": [
        "# check trainval.txt to see if names are consistent with annotations or images. If not, just use names under annotations xor images folder (just a sanity check)"
      ],
      "metadata": {
        "id": "NxY5cdR0dIk9"
      }
    },
    {
      "cell_type": "code",
      "source": [
        "index_path = \"/content/original_data/Indexes/trainval.txt\""
      ],
      "metadata": {
        "id": "DIYEI_w7-ra-"
      },
      "execution_count": null,
      "outputs": []
    },
    {
      "cell_type": "code",
      "source": [
        "with open(index_path, 'r') as fp:\n",
        "    lines = fp.readlines()\n",
        "\n",
        "print(len(lines))"
      ],
      "metadata": {
        "colab": {
          "base_uri": "https://localhost:8080/"
        },
        "id": "5fHO5EbMA-no",
        "outputId": "f89ac3d0-e3a7-4eb5-9260-38595ea9451c"
      },
      "execution_count": null,
      "outputs": [
        {
          "output_type": "stream",
          "name": "stdout",
          "text": [
            "16227\n"
          ]
        }
      ]
    },
    {
      "cell_type": "markdown",
      "source": [
        "check all indices are present as images"
      ],
      "metadata": {
        "id": "yr1BjFPiE5bo"
      }
    },
    {
      "cell_type": "code",
      "source": [
        "ann_dir = \"/content/original_data/Annotations/trainval\"\n",
        "img_dir = \"/content/original_data/JPEGImages/trainval\""
      ],
      "metadata": {
        "id": "nFuxGrDOE_aF"
      },
      "execution_count": null,
      "outputs": []
    },
    {
      "cell_type": "code",
      "source": [
        "import os\n",
        "\n",
        "split_file = os.path.join(\"/content/original_data\", 'Indexes', 'trainval.txt')\n",
        "with open(split_file) as fp:\n",
        "    index_list = [line.strip() for line in fp]"
      ],
      "metadata": {
        "id": "gymanmm8QN_j"
      },
      "execution_count": null,
      "outputs": []
    },
    {
      "cell_type": "code",
      "source": [
        "for line in index_list:\n",
        "    pth = os.path.join(img_dir, line + \".jpg\")\n",
        "    assert(os.path.exists(pth))  # should not throw any assertion errors"
      ],
      "metadata": {
        "id": "3y0CeaTMEBjW"
      },
      "execution_count": null,
      "outputs": []
    },
    {
      "cell_type": "markdown",
      "source": [
        "# Create Custom Dataset (Pascal2012)"
      ],
      "metadata": {
        "id": "0gY2u8qAJ8lb"
      }
    },
    {
      "cell_type": "markdown",
      "source": [
        "imports"
      ],
      "metadata": {
        "id": "bF9KbkCNKKp5"
      }
    },
    {
      "cell_type": "code",
      "source": [
        "import numpy as np\n",
        "import os\n",
        "import xml.etree.ElementTree as ET\n",
        "\n",
        "import torch\n",
        "import torch.nn\n",
        "from PIL import Image\n",
        "from torch.utils.data import Dataset, DataLoader\n",
        "\n",
        "import random\n",
        "import torchvision.transforms as transforms\n",
        "\n",
        "import scipy.io\n",
        "import pickle\n",
        "from tqdm import tqdm"
      ],
      "metadata": {
        "id": "8NlwP61qJ-SH"
      },
      "execution_count": null,
      "outputs": []
    },
    {
      "cell_type": "markdown",
      "source": [
        "dataset"
      ],
      "metadata": {
        "id": "qeFlP0KiKMUn"
      }
    },
    {
      "cell_type": "code",
      "source": [
        "class PASCALDataset(Dataset):\n",
        "    CLASS_NAMES = ['aeroplane', 'bicycle', 'bird', 'boat', 'bottle', 'bus', 'car',\n",
        "                   'cat', 'chair', 'cow', 'diningtable', 'dog', 'horse', 'motorbike',\n",
        "                   'person', 'pottedplant', 'sheep', 'sofa', 'train', 'tvmonitor']\n",
        "    INV_CLASS = {}\n",
        "    \n",
        "    for i in range(len(CLASS_NAMES)):\n",
        "        INV_CLASS[CLASS_NAMES[i]] = i\n",
        "\n",
        "    CLASS_NAMES.insert(0, '__background__') # Adding background class with 0 index\n",
        "\n",
        "\n",
        "    def __init__(self, split='trainval', data_dir=\"/content/original_data\", save_lbl_pth='/content/gdrive/MyDrive/VLR_Project/data/PASCAL2012'):\n",
        "        super().__init__()\n",
        "        self.split      = split     # 'trainval' or 'test'\n",
        "        self.data_dir   = data_dir\n",
        "        self.label_pth = os.path.join(save_lbl_pth, split + \"_label.pkl\")\n",
        "        \n",
        "        self.img_dir = os.path.join(data_dir, 'JPEGImages', split)\n",
        "        self.ann_dir = os.path.join(data_dir, 'Annotations', split)\n",
        "\n",
        "        split_file = os.path.join(data_dir, 'Indexes', split + '.txt')\n",
        "        with open(split_file) as fp:\n",
        "            self.index_list = [line.strip() for line in fp]\n",
        "\n",
        "        self.anno_list = self.preload_anno()\n",
        "\n",
        "    @classmethod\n",
        "    def get_class_name(cls, index):\n",
        "        return cls.CLASS_NAMES[index]\n",
        "\n",
        "    @classmethod\n",
        "    def get_class_index(cls, name):\n",
        "        return cls.INV_CLASS[name]\n",
        "\n",
        "    def __len__(self):\n",
        "        return len(self.index_list)\n",
        "\n",
        "    def preload_anno(self):\n",
        "        \"\"\"\n",
        "        :return: a list of labels. each element is in the form of [class, weight, gt_class_list, gt_boxes],\n",
        "         where both class and weight are arrays/tensors in shape of [20],\n",
        "         gt_class_list is a list of the class ids (separate for each instance)\n",
        "         gt_boxes is a list of [xmin, ymin, xmax, ymax] values in the range 0 to 1\n",
        "        \"\"\"        \n",
        "        if os.path.exists(self.label_pth):\n",
        "            print(f\"preloading from path {self.label_pth}\")\n",
        "            label_list = []\n",
        "            with open(self.label_pth, 'rb') as fp:\n",
        "                label_list = pickle.load(fp)\n",
        "            \n",
        "            return label_list\n",
        "\n",
        "        label_list = []\n",
        "        # print(f\"reading data to save to {self.label_pth}\")\n",
        "\n",
        "        for i, index in tqdm(enumerate(self.index_list)):\n",
        "            fpath = os.path.join(self.ann_dir, index + '.xml')\n",
        "            tree = ET.parse(fpath)\n",
        "            root = tree.getroot()\n",
        "\n",
        "            # print(f\"parsing {index}\")\n",
        "\n",
        "            C = np.zeros(20)\n",
        "            W = np.ones(20) * 2 # default to enable 1 or 0 later for difficulty\n",
        "\n",
        "            # new list for each index\n",
        "            gt_class_list = []\n",
        "            gt_boxes = []\n",
        "\n",
        "            for child in root:\n",
        "                \n",
        "                if child.tag == 'object':\n",
        "                    C[self.INV_CLASS[child[0].text]] = 1    # item at index of child name become 1\n",
        "                    if child[3].text == '1' and W[self.INV_CLASS[child[0].text]] == 2:\n",
        "                        W[self.INV_CLASS[child[0].text]] = 0    # if not difficult, weight is one\n",
        "                    elif child[3].text == '0' :\n",
        "                        W[self.INV_CLASS[child[0].text]] = 1\n",
        "                    \n",
        "                    # add class_index to gt_class_list\n",
        "                    gt_class_list.append(self.INV_CLASS[child[0].text])\n",
        "\n",
        "                    for t in child:\n",
        "                        if t.tag == 'bndbox':\n",
        "                            xmin = float(t.findall(\"xmin\")[0].text)\n",
        "                            ymin = float(t.findall(\"ymin\")[0].text)\n",
        "                            xmax = float(t.findall(\"xmax\")[0].text)\n",
        "                            ymax = float(t.findall(\"ymax\")[0].text)\n",
        "                            assert xmin < xmax, f\"xmin not less than xmax for {index}\"\n",
        "                            assert ymin < ymax, f\"ymin not less than ymax for {index}\"\n",
        "                            gt_boxes.append([xmin, ymin, xmax, ymax])\n",
        "                    \n",
        "            for i in range(len(W)):\n",
        "                if W[i] == 2:\n",
        "                    W[i] = 1\n",
        "\n",
        "            label_list.append([C, W, gt_class_list, gt_boxes])\n",
        "            \n",
        "        # uncomment if you want to save the pickled label list to preload next time\n",
        "        # with open(self.label_pth, 'wb') as fp:\n",
        "        #   pickle.dump(label_list, fp)\n",
        "\n",
        "        return label_list\n",
        "\n",
        "    \n",
        "    def __getitem__(self, index):\n",
        "        \"\"\"\n",
        "        :param index: a int generated by Dataloader in range [0, __len__()]\n",
        "        :return: index-th element - containing all the aforementioned information\n",
        "        \"\"\"\n",
        "        # The input to the model is expected to be a list of tensors, each of shape [C, H, W], one for each image, and should be in 0-1 range.\n",
        "        # Different images can have different sizes but they will be resized to a fixed size before passing it to the backbone.\n",
        "        # During training, the model expects both the input tensors, as well as a targets (list of dictionary), containing:\n",
        "\n",
        "        # boxes (FloatTensor[N, 4]): the ground-truth boxes in [x1, y1, x2, y2] format, with 0 <= x1 < x2 <= W and 0 <= y1 < y2 <= H.\n",
        "\n",
        "        # labels (Int64Tensor[N]): the class label for each ground-truth box\n",
        "        findex = self.index_list[index]     # findex refers to the file number\n",
        "        fpath = os.path.join(self.img_dir, findex + '.jpg')\n",
        "\n",
        "        # image: a PIL Image of size (H, W)\n",
        "        img = Image.open(fpath).convert(\"RGB\")\n",
        "        img = transforms.ToTensor()(img)\n",
        "\n",
        "\n",
        "        '''\n",
        "        One note on the labels. The model considers class 0 as background.\n",
        "        If your dataset does not contain the background class, you should not have 0 in your labels.\n",
        "        For example, assuming you have just two classes, cat and dog, you can define 1 (not 0) to represent cats\n",
        "        and 2 to represent dogs. So, for instance, if one of the images has both classes, your labels tensor should look like [1,2].\n",
        "\n",
        "        Edit: So basically add 1 to all the label classes!\n",
        "        '''\n",
        "\n",
        "        \n",
        "        # first id is the background, so remove it =====> Verify this!\n",
        "        # obj_ids = obj_ids[1:]\n",
        "\n",
        "\n",
        "        # target: a dict containing the following fields\n",
        "\n",
        "        # 1. boxes (FloatTensor[N, 4]): the coordinates of the N bounding boxes in [x0, y0, x1, y1] format, ranging from 0 to W and 0 to H\n",
        "        labels, boxes = self.anno_list[index][2], self.anno_list[index][3]\n",
        "\n",
        "        boxes = torch.as_tensor(boxes, dtype=torch.float32)\n",
        "\n",
        "        # 2. labels (Int64Tensor[N]): the label for each bounding box. 0 represents always the background class.\n",
        "        labels = torch.as_tensor(labels, dtype=torch.int64) + 1 # Add 1 since background class has been added!\n",
        "\n",
        "\n",
        "        # 3. image_id (Int64Tensor[1]): an image identifier.\n",
        "        # It should be unique between all the images in the dataset, and is used during evaluation\n",
        "        image_id = torch.tensor([index])\n",
        "\n",
        "        # 4. area (Tensor[N]): The area of the bounding box.\n",
        "        # This is used during evaluation with the COCO metric, to separate the metric scores between small, medium and large boxes.\n",
        "        area = (boxes[:, 3] - boxes[:, 1]) * (boxes[:, 2] - boxes[:, 0])\n",
        "\n",
        "        # 5. iscrowd (UInt8Tensor[N]): instances with iscrowd=True will be ignored during evaluation.\n",
        "        # Suppose all instances are not crowd\n",
        "        iscrowd = torch.zeros((len(labels),), dtype=torch.int64)\n",
        "\n",
        "\n",
        "        target = {}\n",
        "\n",
        "        target[\"boxes\"] = boxes\n",
        "        target[\"labels\"] = labels\n",
        "        target[\"image_id\"] = image_id\n",
        "        target[\"area\"] = area\n",
        "        target[\"iscrowd\"] = iscrowd\n",
        "\n",
        "        return img, target"
      ],
      "metadata": {
        "id": "Y01YUF0gj3-L"
      },
      "execution_count": null,
      "outputs": []
    },
    {
      "cell_type": "markdown",
      "source": [
        "# Define Model (FASTER RCNN)"
      ],
      "metadata": {
        "id": "yyd7DyBwJ3Cl"
      }
    },
    {
      "cell_type": "code",
      "source": [
        "import argparse\n",
        "import os\n",
        "import shutil\n",
        "import time\n",
        "import sys\n",
        "from tkinter import N\n",
        "import sklearn\n",
        "import sklearn.metrics\n",
        "import seaborn as sns\n",
        "import matplotlib.pyplot as plt\n",
        "from sklearn.preprocessing import MinMaxScaler\n",
        "\n",
        "import torch\n",
        "import torch.nn as nn\n",
        "import torch.nn.parallel\n",
        "import torch.nn.functional as F\n",
        "import torch.backends.cudnn as cudnn\n",
        "import torch.distributed as dist\n",
        "import torch.optim\n",
        "import torch.utils.data\n",
        "import torch.utils.data.distributed\n",
        "import torchvision\n",
        "import torchvision.transforms as transforms\n",
        "import torchvision.datasets as datasets\n",
        "import torchvision.models as models"
      ],
      "metadata": {
        "id": "M1-zVIBHJ-hb"
      },
      "execution_count": null,
      "outputs": []
    },
    {
      "cell_type": "code",
      "source": [
        "device = \"cuda\" if torch.cuda.is_available() else \"cpu\""
      ],
      "metadata": {
        "id": "iX1LRidAAWTB"
      },
      "execution_count": null,
      "outputs": []
    },
    {
      "cell_type": "code",
      "source": [
        "from torchvision.models.detection.faster_rcnn import FastRCNNPredictor\n",
        "# model = torchvision.models.detection.ssd300_vgg16(pretrained=False, num_classes=len(PASCALDataset.CLASS_NAMES) + 1)\n",
        "\n",
        "# load a model pre-trained on COCO\n",
        "model = torchvision.models.detection.fasterrcnn_resnet50_fpn(pretrained=True)\n",
        "\n",
        "# replace the classifier with a new one, that has\n",
        "# num_classes which is user-defined\n",
        "num_classes = len(PASCALDataset.CLASS_NAMES) + 1\n",
        "# get number of input features for the classifier\n",
        "in_features = model.roi_heads.box_predictor.cls_score.in_features\n",
        "# replace the pre-trained head with a new one\n",
        "model.roi_heads.box_predictor = FastRCNNPredictor(in_features, num_classes)\n",
        "model.train().to(device)"
      ],
      "metadata": {
        "colab": {
          "base_uri": "https://localhost:8080/",
          "height": 1000,
          "referenced_widgets": [
            "32e4059d95c041c1897345eb0725e789",
            "1f64b26e56ed47f4baa3342c5a0b8e04",
            "ad60603101fb47bca99e605ebe4bd910",
            "92996797969744c3a2dd976470e2a798",
            "167298a83b4242119124ad01c1a02c9f",
            "d91a519596984320ba370631b7218c0d",
            "aa234971ce1c4737bd0517aafaf4de97",
            "0ac87b99e8a041d1bab7c855f64b565e",
            "4993a5e2683e485f89c7fab0e3e62739",
            "2df40971e7334e29ae3b273dea022c23",
            "e03dbd1d03e24665bf4bb0ce4c785efa"
          ]
        },
        "id": "gtfGuIUVMzH8",
        "outputId": "dc6038b6-dcb0-474a-c6a9-3d5592c495e1"
      },
      "execution_count": null,
      "outputs": [
        {
          "output_type": "stream",
          "name": "stderr",
          "text": [
            "Downloading: \"https://download.pytorch.org/models/fasterrcnn_resnet50_fpn_coco-258fb6c6.pth\" to /root/.cache/torch/hub/checkpoints/fasterrcnn_resnet50_fpn_coco-258fb6c6.pth\n"
          ]
        },
        {
          "output_type": "display_data",
          "data": {
            "text/plain": [
              "  0%|          | 0.00/160M [00:00<?, ?B/s]"
            ],
            "application/vnd.jupyter.widget-view+json": {
              "version_major": 2,
              "version_minor": 0,
              "model_id": "32e4059d95c041c1897345eb0725e789"
            }
          },
          "metadata": {}
        },
        {
          "output_type": "execute_result",
          "data": {
            "text/plain": [
              "FasterRCNN(\n",
              "  (transform): GeneralizedRCNNTransform(\n",
              "      Normalize(mean=[0.485, 0.456, 0.406], std=[0.229, 0.224, 0.225])\n",
              "      Resize(min_size=(800,), max_size=1333, mode='bilinear')\n",
              "  )\n",
              "  (backbone): BackboneWithFPN(\n",
              "    (body): IntermediateLayerGetter(\n",
              "      (conv1): Conv2d(3, 64, kernel_size=(7, 7), stride=(2, 2), padding=(3, 3), bias=False)\n",
              "      (bn1): FrozenBatchNorm2d(64, eps=0.0)\n",
              "      (relu): ReLU(inplace=True)\n",
              "      (maxpool): MaxPool2d(kernel_size=3, stride=2, padding=1, dilation=1, ceil_mode=False)\n",
              "      (layer1): Sequential(\n",
              "        (0): Bottleneck(\n",
              "          (conv1): Conv2d(64, 64, kernel_size=(1, 1), stride=(1, 1), bias=False)\n",
              "          (bn1): FrozenBatchNorm2d(64, eps=0.0)\n",
              "          (conv2): Conv2d(64, 64, kernel_size=(3, 3), stride=(1, 1), padding=(1, 1), bias=False)\n",
              "          (bn2): FrozenBatchNorm2d(64, eps=0.0)\n",
              "          (conv3): Conv2d(64, 256, kernel_size=(1, 1), stride=(1, 1), bias=False)\n",
              "          (bn3): FrozenBatchNorm2d(256, eps=0.0)\n",
              "          (relu): ReLU(inplace=True)\n",
              "          (downsample): Sequential(\n",
              "            (0): Conv2d(64, 256, kernel_size=(1, 1), stride=(1, 1), bias=False)\n",
              "            (1): FrozenBatchNorm2d(256, eps=0.0)\n",
              "          )\n",
              "        )\n",
              "        (1): Bottleneck(\n",
              "          (conv1): Conv2d(256, 64, kernel_size=(1, 1), stride=(1, 1), bias=False)\n",
              "          (bn1): FrozenBatchNorm2d(64, eps=0.0)\n",
              "          (conv2): Conv2d(64, 64, kernel_size=(3, 3), stride=(1, 1), padding=(1, 1), bias=False)\n",
              "          (bn2): FrozenBatchNorm2d(64, eps=0.0)\n",
              "          (conv3): Conv2d(64, 256, kernel_size=(1, 1), stride=(1, 1), bias=False)\n",
              "          (bn3): FrozenBatchNorm2d(256, eps=0.0)\n",
              "          (relu): ReLU(inplace=True)\n",
              "        )\n",
              "        (2): Bottleneck(\n",
              "          (conv1): Conv2d(256, 64, kernel_size=(1, 1), stride=(1, 1), bias=False)\n",
              "          (bn1): FrozenBatchNorm2d(64, eps=0.0)\n",
              "          (conv2): Conv2d(64, 64, kernel_size=(3, 3), stride=(1, 1), padding=(1, 1), bias=False)\n",
              "          (bn2): FrozenBatchNorm2d(64, eps=0.0)\n",
              "          (conv3): Conv2d(64, 256, kernel_size=(1, 1), stride=(1, 1), bias=False)\n",
              "          (bn3): FrozenBatchNorm2d(256, eps=0.0)\n",
              "          (relu): ReLU(inplace=True)\n",
              "        )\n",
              "      )\n",
              "      (layer2): Sequential(\n",
              "        (0): Bottleneck(\n",
              "          (conv1): Conv2d(256, 128, kernel_size=(1, 1), stride=(1, 1), bias=False)\n",
              "          (bn1): FrozenBatchNorm2d(128, eps=0.0)\n",
              "          (conv2): Conv2d(128, 128, kernel_size=(3, 3), stride=(2, 2), padding=(1, 1), bias=False)\n",
              "          (bn2): FrozenBatchNorm2d(128, eps=0.0)\n",
              "          (conv3): Conv2d(128, 512, kernel_size=(1, 1), stride=(1, 1), bias=False)\n",
              "          (bn3): FrozenBatchNorm2d(512, eps=0.0)\n",
              "          (relu): ReLU(inplace=True)\n",
              "          (downsample): Sequential(\n",
              "            (0): Conv2d(256, 512, kernel_size=(1, 1), stride=(2, 2), bias=False)\n",
              "            (1): FrozenBatchNorm2d(512, eps=0.0)\n",
              "          )\n",
              "        )\n",
              "        (1): Bottleneck(\n",
              "          (conv1): Conv2d(512, 128, kernel_size=(1, 1), stride=(1, 1), bias=False)\n",
              "          (bn1): FrozenBatchNorm2d(128, eps=0.0)\n",
              "          (conv2): Conv2d(128, 128, kernel_size=(3, 3), stride=(1, 1), padding=(1, 1), bias=False)\n",
              "          (bn2): FrozenBatchNorm2d(128, eps=0.0)\n",
              "          (conv3): Conv2d(128, 512, kernel_size=(1, 1), stride=(1, 1), bias=False)\n",
              "          (bn3): FrozenBatchNorm2d(512, eps=0.0)\n",
              "          (relu): ReLU(inplace=True)\n",
              "        )\n",
              "        (2): Bottleneck(\n",
              "          (conv1): Conv2d(512, 128, kernel_size=(1, 1), stride=(1, 1), bias=False)\n",
              "          (bn1): FrozenBatchNorm2d(128, eps=0.0)\n",
              "          (conv2): Conv2d(128, 128, kernel_size=(3, 3), stride=(1, 1), padding=(1, 1), bias=False)\n",
              "          (bn2): FrozenBatchNorm2d(128, eps=0.0)\n",
              "          (conv3): Conv2d(128, 512, kernel_size=(1, 1), stride=(1, 1), bias=False)\n",
              "          (bn3): FrozenBatchNorm2d(512, eps=0.0)\n",
              "          (relu): ReLU(inplace=True)\n",
              "        )\n",
              "        (3): Bottleneck(\n",
              "          (conv1): Conv2d(512, 128, kernel_size=(1, 1), stride=(1, 1), bias=False)\n",
              "          (bn1): FrozenBatchNorm2d(128, eps=0.0)\n",
              "          (conv2): Conv2d(128, 128, kernel_size=(3, 3), stride=(1, 1), padding=(1, 1), bias=False)\n",
              "          (bn2): FrozenBatchNorm2d(128, eps=0.0)\n",
              "          (conv3): Conv2d(128, 512, kernel_size=(1, 1), stride=(1, 1), bias=False)\n",
              "          (bn3): FrozenBatchNorm2d(512, eps=0.0)\n",
              "          (relu): ReLU(inplace=True)\n",
              "        )\n",
              "      )\n",
              "      (layer3): Sequential(\n",
              "        (0): Bottleneck(\n",
              "          (conv1): Conv2d(512, 256, kernel_size=(1, 1), stride=(1, 1), bias=False)\n",
              "          (bn1): FrozenBatchNorm2d(256, eps=0.0)\n",
              "          (conv2): Conv2d(256, 256, kernel_size=(3, 3), stride=(2, 2), padding=(1, 1), bias=False)\n",
              "          (bn2): FrozenBatchNorm2d(256, eps=0.0)\n",
              "          (conv3): Conv2d(256, 1024, kernel_size=(1, 1), stride=(1, 1), bias=False)\n",
              "          (bn3): FrozenBatchNorm2d(1024, eps=0.0)\n",
              "          (relu): ReLU(inplace=True)\n",
              "          (downsample): Sequential(\n",
              "            (0): Conv2d(512, 1024, kernel_size=(1, 1), stride=(2, 2), bias=False)\n",
              "            (1): FrozenBatchNorm2d(1024, eps=0.0)\n",
              "          )\n",
              "        )\n",
              "        (1): Bottleneck(\n",
              "          (conv1): Conv2d(1024, 256, kernel_size=(1, 1), stride=(1, 1), bias=False)\n",
              "          (bn1): FrozenBatchNorm2d(256, eps=0.0)\n",
              "          (conv2): Conv2d(256, 256, kernel_size=(3, 3), stride=(1, 1), padding=(1, 1), bias=False)\n",
              "          (bn2): FrozenBatchNorm2d(256, eps=0.0)\n",
              "          (conv3): Conv2d(256, 1024, kernel_size=(1, 1), stride=(1, 1), bias=False)\n",
              "          (bn3): FrozenBatchNorm2d(1024, eps=0.0)\n",
              "          (relu): ReLU(inplace=True)\n",
              "        )\n",
              "        (2): Bottleneck(\n",
              "          (conv1): Conv2d(1024, 256, kernel_size=(1, 1), stride=(1, 1), bias=False)\n",
              "          (bn1): FrozenBatchNorm2d(256, eps=0.0)\n",
              "          (conv2): Conv2d(256, 256, kernel_size=(3, 3), stride=(1, 1), padding=(1, 1), bias=False)\n",
              "          (bn2): FrozenBatchNorm2d(256, eps=0.0)\n",
              "          (conv3): Conv2d(256, 1024, kernel_size=(1, 1), stride=(1, 1), bias=False)\n",
              "          (bn3): FrozenBatchNorm2d(1024, eps=0.0)\n",
              "          (relu): ReLU(inplace=True)\n",
              "        )\n",
              "        (3): Bottleneck(\n",
              "          (conv1): Conv2d(1024, 256, kernel_size=(1, 1), stride=(1, 1), bias=False)\n",
              "          (bn1): FrozenBatchNorm2d(256, eps=0.0)\n",
              "          (conv2): Conv2d(256, 256, kernel_size=(3, 3), stride=(1, 1), padding=(1, 1), bias=False)\n",
              "          (bn2): FrozenBatchNorm2d(256, eps=0.0)\n",
              "          (conv3): Conv2d(256, 1024, kernel_size=(1, 1), stride=(1, 1), bias=False)\n",
              "          (bn3): FrozenBatchNorm2d(1024, eps=0.0)\n",
              "          (relu): ReLU(inplace=True)\n",
              "        )\n",
              "        (4): Bottleneck(\n",
              "          (conv1): Conv2d(1024, 256, kernel_size=(1, 1), stride=(1, 1), bias=False)\n",
              "          (bn1): FrozenBatchNorm2d(256, eps=0.0)\n",
              "          (conv2): Conv2d(256, 256, kernel_size=(3, 3), stride=(1, 1), padding=(1, 1), bias=False)\n",
              "          (bn2): FrozenBatchNorm2d(256, eps=0.0)\n",
              "          (conv3): Conv2d(256, 1024, kernel_size=(1, 1), stride=(1, 1), bias=False)\n",
              "          (bn3): FrozenBatchNorm2d(1024, eps=0.0)\n",
              "          (relu): ReLU(inplace=True)\n",
              "        )\n",
              "        (5): Bottleneck(\n",
              "          (conv1): Conv2d(1024, 256, kernel_size=(1, 1), stride=(1, 1), bias=False)\n",
              "          (bn1): FrozenBatchNorm2d(256, eps=0.0)\n",
              "          (conv2): Conv2d(256, 256, kernel_size=(3, 3), stride=(1, 1), padding=(1, 1), bias=False)\n",
              "          (bn2): FrozenBatchNorm2d(256, eps=0.0)\n",
              "          (conv3): Conv2d(256, 1024, kernel_size=(1, 1), stride=(1, 1), bias=False)\n",
              "          (bn3): FrozenBatchNorm2d(1024, eps=0.0)\n",
              "          (relu): ReLU(inplace=True)\n",
              "        )\n",
              "      )\n",
              "      (layer4): Sequential(\n",
              "        (0): Bottleneck(\n",
              "          (conv1): Conv2d(1024, 512, kernel_size=(1, 1), stride=(1, 1), bias=False)\n",
              "          (bn1): FrozenBatchNorm2d(512, eps=0.0)\n",
              "          (conv2): Conv2d(512, 512, kernel_size=(3, 3), stride=(2, 2), padding=(1, 1), bias=False)\n",
              "          (bn2): FrozenBatchNorm2d(512, eps=0.0)\n",
              "          (conv3): Conv2d(512, 2048, kernel_size=(1, 1), stride=(1, 1), bias=False)\n",
              "          (bn3): FrozenBatchNorm2d(2048, eps=0.0)\n",
              "          (relu): ReLU(inplace=True)\n",
              "          (downsample): Sequential(\n",
              "            (0): Conv2d(1024, 2048, kernel_size=(1, 1), stride=(2, 2), bias=False)\n",
              "            (1): FrozenBatchNorm2d(2048, eps=0.0)\n",
              "          )\n",
              "        )\n",
              "        (1): Bottleneck(\n",
              "          (conv1): Conv2d(2048, 512, kernel_size=(1, 1), stride=(1, 1), bias=False)\n",
              "          (bn1): FrozenBatchNorm2d(512, eps=0.0)\n",
              "          (conv2): Conv2d(512, 512, kernel_size=(3, 3), stride=(1, 1), padding=(1, 1), bias=False)\n",
              "          (bn2): FrozenBatchNorm2d(512, eps=0.0)\n",
              "          (conv3): Conv2d(512, 2048, kernel_size=(1, 1), stride=(1, 1), bias=False)\n",
              "          (bn3): FrozenBatchNorm2d(2048, eps=0.0)\n",
              "          (relu): ReLU(inplace=True)\n",
              "        )\n",
              "        (2): Bottleneck(\n",
              "          (conv1): Conv2d(2048, 512, kernel_size=(1, 1), stride=(1, 1), bias=False)\n",
              "          (bn1): FrozenBatchNorm2d(512, eps=0.0)\n",
              "          (conv2): Conv2d(512, 512, kernel_size=(3, 3), stride=(1, 1), padding=(1, 1), bias=False)\n",
              "          (bn2): FrozenBatchNorm2d(512, eps=0.0)\n",
              "          (conv3): Conv2d(512, 2048, kernel_size=(1, 1), stride=(1, 1), bias=False)\n",
              "          (bn3): FrozenBatchNorm2d(2048, eps=0.0)\n",
              "          (relu): ReLU(inplace=True)\n",
              "        )\n",
              "      )\n",
              "    )\n",
              "    (fpn): FeaturePyramidNetwork(\n",
              "      (inner_blocks): ModuleList(\n",
              "        (0): Conv2d(256, 256, kernel_size=(1, 1), stride=(1, 1))\n",
              "        (1): Conv2d(512, 256, kernel_size=(1, 1), stride=(1, 1))\n",
              "        (2): Conv2d(1024, 256, kernel_size=(1, 1), stride=(1, 1))\n",
              "        (3): Conv2d(2048, 256, kernel_size=(1, 1), stride=(1, 1))\n",
              "      )\n",
              "      (layer_blocks): ModuleList(\n",
              "        (0): Conv2d(256, 256, kernel_size=(3, 3), stride=(1, 1), padding=(1, 1))\n",
              "        (1): Conv2d(256, 256, kernel_size=(3, 3), stride=(1, 1), padding=(1, 1))\n",
              "        (2): Conv2d(256, 256, kernel_size=(3, 3), stride=(1, 1), padding=(1, 1))\n",
              "        (3): Conv2d(256, 256, kernel_size=(3, 3), stride=(1, 1), padding=(1, 1))\n",
              "      )\n",
              "      (extra_blocks): LastLevelMaxPool()\n",
              "    )\n",
              "  )\n",
              "  (rpn): RegionProposalNetwork(\n",
              "    (anchor_generator): AnchorGenerator()\n",
              "    (head): RPNHead(\n",
              "      (conv): Conv2d(256, 256, kernel_size=(3, 3), stride=(1, 1), padding=(1, 1))\n",
              "      (cls_logits): Conv2d(256, 3, kernel_size=(1, 1), stride=(1, 1))\n",
              "      (bbox_pred): Conv2d(256, 12, kernel_size=(1, 1), stride=(1, 1))\n",
              "    )\n",
              "  )\n",
              "  (roi_heads): RoIHeads(\n",
              "    (box_roi_pool): MultiScaleRoIAlign(featmap_names=['0', '1', '2', '3'], output_size=(7, 7), sampling_ratio=2)\n",
              "    (box_head): TwoMLPHead(\n",
              "      (fc6): Linear(in_features=12544, out_features=1024, bias=True)\n",
              "      (fc7): Linear(in_features=1024, out_features=1024, bias=True)\n",
              "    )\n",
              "    (box_predictor): FastRCNNPredictor(\n",
              "      (cls_score): Linear(in_features=1024, out_features=22, bias=True)\n",
              "      (bbox_pred): Linear(in_features=1024, out_features=88, bias=True)\n",
              "    )\n",
              "  )\n",
              ")"
            ]
          },
          "metadata": {},
          "execution_count": 17
        }
      ]
    },
    {
      "cell_type": "code",
      "source": [
        "for name, layer in model.named_modules():\n",
        "    print(name, layer)"
      ],
      "metadata": {
        "id": "-fXtx10CpQCR"
      },
      "execution_count": null,
      "outputs": []
    },
    {
      "cell_type": "code",
      "source": [
        "print(model.backbone.body.layer4)"
      ],
      "metadata": {
        "id": "pGQ5VC5TM3fq"
      },
      "execution_count": null,
      "outputs": []
    },
    {
      "cell_type": "markdown",
      "source": [
        "## some more hyperparams"
      ],
      "metadata": {
        "id": "aOBar0SzS-Jh"
      }
    },
    {
      "cell_type": "code",
      "source": [
        "lr = 0.005\n",
        "momentum = 0.9\n",
        "weight_decay = 5e-4\n",
        "epochs = 5 # Keep it as 10 because we can use batch_size=4 instead of 2"
      ],
      "metadata": {
        "id": "WrrO2qS3S_v0"
      },
      "execution_count": null,
      "outputs": []
    },
    {
      "cell_type": "markdown",
      "source": [
        "## define optimizer, scheduler"
      ],
      "metadata": {
        "id": "_AG8ruW6ThEJ"
      }
    },
    {
      "cell_type": "code",
      "source": [
        "optimizer = torch.optim.SGD(model.parameters(), lr=lr, momentum=momentum, weight_decay=weight_decay)\n",
        "scheduler = torch.optim.lr_scheduler.StepLR(optimizer, step_size=2, gamma=0.1)"
      ],
      "metadata": {
        "id": "uzqCufNcJ4r1"
      },
      "execution_count": null,
      "outputs": []
    },
    {
      "cell_type": "markdown",
      "source": [
        "# We'll need another library for this (using this library's train function)"
      ],
      "metadata": {
        "id": "7y1svtFOD2l9"
      }
    },
    {
      "cell_type": "code",
      "source": [
        "!ls"
      ],
      "metadata": {
        "colab": {
          "base_uri": "https://localhost:8080/"
        },
        "id": "FFpY9ckTD69b",
        "outputId": "88a521ea-f9c9-4655-c309-cccce78bb075"
      },
      "execution_count": null,
      "outputs": [
        {
          "output_type": "stream",
          "name": "stdout",
          "text": [
            "gdrive\t__MACOSX  original_data  original_data.zip  sample_data\n"
          ]
        }
      ]
    },
    {
      "cell_type": "code",
      "source": [
        "!git clone https://github.com/pytorch/vision.git"
      ],
      "metadata": {
        "colab": {
          "base_uri": "https://localhost:8080/"
        },
        "id": "TYOUEqP1D2DI",
        "outputId": "64a914a5-f4be-433e-e3f2-3e92e4a2b951"
      },
      "execution_count": null,
      "outputs": [
        {
          "output_type": "stream",
          "name": "stdout",
          "text": [
            "Cloning into 'vision'...\n",
            "remote: Enumerating objects: 132578, done.\u001b[K\n",
            "remote: Counting objects: 100% (1866/1866), done.\u001b[K\n",
            "remote: Compressing objects: 100% (190/190), done.\u001b[K\n",
            "remote: Total 132578 (delta 1678), reused 1841 (delta 1668), pack-reused 130712\u001b[K\n",
            "Receiving objects: 100% (132578/132578), 258.37 MiB | 12.66 MiB/s, done.\n",
            "Resolving deltas: 100% (116317/116317), done.\n"
          ]
        }
      ]
    },
    {
      "cell_type": "code",
      "source": [
        "import os\n",
        "print(os.getcwd())"
      ],
      "metadata": {
        "colab": {
          "base_uri": "https://localhost:8080/"
        },
        "id": "d8trGo1qEKQ7",
        "outputId": "dc42c6e5-837b-4e61-b114-f379a5252677"
      },
      "execution_count": null,
      "outputs": [
        {
          "output_type": "stream",
          "name": "stdout",
          "text": [
            "/content\n"
          ]
        }
      ]
    },
    {
      "cell_type": "code",
      "source": [
        "print(os.environ['PYTHONPATH'])\n",
        "os.environ['PYTHONPATH'] += \":\" + \"/content/vision/references/detection\"\n",
        "print(os.environ['PYTHONPATH'])"
      ],
      "metadata": {
        "colab": {
          "base_uri": "https://localhost:8080/"
        },
        "id": "a6sDdPjMENk2",
        "outputId": "712f20b4-7f4c-42b8-cef8-450f10e39182"
      },
      "execution_count": null,
      "outputs": [
        {
          "output_type": "stream",
          "name": "stdout",
          "text": [
            "/env/python\n",
            "/env/python:/content/vision/references/detection\n"
          ]
        }
      ]
    },
    {
      "cell_type": "code",
      "source": [
        "%cd \"/content/vision/references/detection\""
      ],
      "metadata": {
        "colab": {
          "base_uri": "https://localhost:8080/"
        },
        "id": "ETb8CkzZEyGf",
        "outputId": "f43c64f6-4dc4-4d5a-f7b8-414d0716b48d"
      },
      "execution_count": null,
      "outputs": [
        {
          "output_type": "stream",
          "name": "stdout",
          "text": [
            "/content/vision/references/detection\n"
          ]
        }
      ]
    },
    {
      "cell_type": "markdown",
      "source": [
        "# Train Function"
      ],
      "metadata": {
        "id": "H-kwn2lTUnRx"
      }
    },
    {
      "cell_type": "code",
      "source": [
        "# Import functions from inside the /content/vision/references/detection path\n",
        "from engine import train_one_epoch, evaluate\n",
        "import utils"
      ],
      "metadata": {
        "id": "OUdqTUSYEcW3"
      },
      "execution_count": null,
      "outputs": []
    },
    {
      "cell_type": "markdown",
      "source": [
        "# Define dataset and dataloader"
      ],
      "metadata": {
        "id": "tvKAHE5mMafg"
      }
    },
    {
      "cell_type": "code",
      "source": [
        "# We require utils for the collate function\n",
        "torch.cuda.empty_cache()\n",
        "\n",
        "batch_size = 4\n",
        "num_workers = 2\n",
        "\n",
        "\n",
        "train_dataset = PASCALDataset('trainval', data_dir=\"/content/original_data\")\n",
        "train_loader=DataLoader(train_dataset,batch_size=batch_size, shuffle=True, num_workers=num_workers, pin_memory=True, collate_fn=utils.collate_fn)\n",
        "print('\\n', len(train_loader))"
      ],
      "metadata": {
        "id": "l5KV6SORMdj7",
        "colab": {
          "base_uri": "https://localhost:8080/"
        },
        "outputId": "c11b7d35-a817-4b33-f9b2-cb14980d66ee"
      },
      "execution_count": null,
      "outputs": [
        {
          "output_type": "stream",
          "name": "stderr",
          "text": [
            "16227it [00:01, 8645.36it/s]"
          ]
        },
        {
          "output_type": "stream",
          "name": "stdout",
          "text": [
            "\n",
            " 4057\n"
          ]
        },
        {
          "output_type": "stream",
          "name": "stderr",
          "text": [
            "\n"
          ]
        }
      ]
    },
    {
      "cell_type": "code",
      "source": [
        "test_dataset = PASCALDataset('test', data_dir=\"/content/original_data\")\n",
        "test_loader = DataLoader(test_dataset,batch_size=batch_size, shuffle=False, num_workers=num_workers, pin_memory=True, collate_fn=utils.collate_fn)\n",
        "print('\\n', len(test_loader))"
      ],
      "metadata": {
        "id": "-z-qzH97Mf0J",
        "colab": {
          "base_uri": "https://localhost:8080/"
        },
        "outputId": "9fdd4863-d8d6-481c-f2f3-7b1235bc0044"
      },
      "execution_count": null,
      "outputs": [
        {
          "output_type": "stream",
          "name": "stderr",
          "text": [
            "898it [00:00, 7956.96it/s]"
          ]
        },
        {
          "output_type": "stream",
          "name": "stdout",
          "text": [
            "\n",
            " 225\n"
          ]
        },
        {
          "output_type": "stream",
          "name": "stderr",
          "text": [
            "\n"
          ]
        }
      ]
    },
    {
      "cell_type": "markdown",
      "source": [
        "the train function below is deprecated. See the main runner"
      ],
      "metadata": {
        "id": "P2lYHrRkFPhu"
      }
    },
    {
      "cell_type": "code",
      "source": [
        "# DEPRECATED\n",
        "def train(train_loader, model, criterion, optimizer, epoch):\n",
        "    total_loss = 0\n",
        "\n",
        "    # switch to train mode\n",
        "    model.train()\n",
        "\n",
        "    end = time.time()\n",
        "    for i, (image_name_list, image_list, gt_box_classes) in enumerate(train_loader):\n",
        "        # send to device\n",
        "        for idx in range(len(image_list)):\n",
        "            image_list[idx] = image_list[idx].to(device)\n",
        "\n",
        "        for idx in range(len(gt_box_classes)):\n",
        "            curr_dict = gt_box_classes[idx]\n",
        "            curr_dict['boxes'] = curr_dict['boxes'].to(device)\n",
        "            curr_dict['labels'] = curr_dict['labels'].to(device)\n",
        "            gt_box_classes[idx] = curr_dict\n",
        "\n",
        "        output = model(image_list, gt_box_classes)\n",
        "        print(output)\n",
        "        break\n",
        "        imoutput = F.max_pool2d(output, kernel_size=output.shape[2:])  # should be batch_size, num_classes, 1, 1\n",
        "        imoutput = torch.sigmoid(imoutput)  # elementwise sigmoid to get probabilities\n",
        "        imoutput = imoutput.squeeze()  # batch_size, num_classes to match target shape\n",
        "        loss = criterion(imoutput, target)\n",
        "        total_loss += loss.item()\n",
        "\n",
        "        if i % 50 == 0:\n",
        "            print(f\"Epoch {epoch} [{i}/{len(train_loader)}] ====> Train Loss: {loss.item()}\")\n",
        "\n",
        "        optimizer.zero_grad()\n",
        "        loss.backward()\n",
        "        optimizer.step()\n",
        "\n",
        "    avg_loss = total_loss / len(train_loader)\n",
        "\n",
        "    return avg_loss"
      ],
      "metadata": {
        "id": "D31cHUkaUodj"
      },
      "execution_count": null,
      "outputs": []
    },
    {
      "cell_type": "markdown",
      "source": [
        "# Runner"
      ],
      "metadata": {
        "id": "P3Xqbo-JWN4o"
      }
    },
    {
      "cell_type": "code",
      "source": [
        "for epoch in range(epochs):\n",
        "    # train for one epoch\n",
        "\n",
        "    train_one_epoch(model, optimizer, train_loader, device, epoch, print_freq=100)\n",
        "    # evaluate(model, test_loader, device)\n",
        "\n",
        "    # VIVEK ADD EVALUATION Done! \\(^_^)/\n",
        "    evaluate(model, test_loader, device=device)\n",
        "\n",
        "    scheduler.step()\n",
        "\n",
        "save_path = os.path.join(\"/content/gdrive/MyDrive/VLR_Project/pascal-training/saved_models\", f\"faster-rcnn_original_epochs{epochs}.pt\")\n",
        "torch.save(model, save_path)"
      ],
      "metadata": {
        "colab": {
          "base_uri": "https://localhost:8080/"
        },
        "id": "2rfDrfB2WMlF",
        "outputId": "82cf6efb-bea8-4747-f2bb-ef9c4cca23ca"
      },
      "execution_count": null,
      "outputs": [
        {
          "output_type": "stream",
          "name": "stdout",
          "text": [
            "Epoch: [0]  [   0/4057]  eta: 2:32:12  lr: 0.000010  loss: 3.4648 (3.4648)  loss_classifier: 3.3328 (3.3328)  loss_box_reg: 0.1194 (0.1194)  loss_objectness: 0.0003 (0.0003)  loss_rpn_box_reg: 0.0122 (0.0122)  time: 2.2510  data: 0.2944  max mem: 5953\n",
            "Epoch: [0]  [ 100/4057]  eta: 1:29:58  lr: 0.000509  loss: 0.7045 (1.2083)  loss_classifier: 0.3604 (0.9016)  loss_box_reg: 0.3203 (0.2784)  loss_objectness: 0.0093 (0.0128)  loss_rpn_box_reg: 0.0086 (0.0155)  time: 1.3703  data: 0.0003  max mem: 7549\n",
            "Epoch: [0]  [ 200/4057]  eta: 1:28:38  lr: 0.001009  loss: 0.5739 (0.8947)  loss_classifier: 0.2775 (0.5901)  loss_box_reg: 0.2652 (0.2759)  loss_objectness: 0.0089 (0.0129)  loss_rpn_box_reg: 0.0120 (0.0157)  time: 1.3982  data: 0.0002  max mem: 7549\n",
            "Epoch: [0]  [ 300/4057]  eta: 1:27:42  lr: 0.001508  loss: 0.4606 (0.7563)  loss_classifier: 0.1823 (0.4655)  loss_box_reg: 0.2542 (0.2616)  loss_objectness: 0.0108 (0.0132)  loss_rpn_box_reg: 0.0121 (0.0161)  time: 1.4671  data: 0.0002  max mem: 7549\n",
            "Epoch: [0]  [ 400/4057]  eta: 1:26:40  lr: 0.002008  loss: 0.3854 (0.6674)  loss_classifier: 0.1619 (0.3924)  loss_box_reg: 0.1754 (0.2459)  loss_objectness: 0.0094 (0.0133)  loss_rpn_box_reg: 0.0179 (0.0159)  time: 1.4564  data: 0.0002  max mem: 7549\n",
            "Epoch: [0]  [ 500/4057]  eta: 1:24:37  lr: 0.002507  loss: 0.2911 (0.6024)  loss_classifier: 0.1171 (0.3420)  loss_box_reg: 0.1810 (0.2323)  loss_objectness: 0.0066 (0.0126)  loss_rpn_box_reg: 0.0083 (0.0155)  time: 1.3713  data: 0.0002  max mem: 8289\n",
            "Epoch: [0]  [ 600/4057]  eta: 1:22:42  lr: 0.003007  loss: 0.3319 (0.5600)  loss_classifier: 0.1166 (0.3077)  loss_box_reg: 0.1870 (0.2233)  loss_objectness: 0.0082 (0.0130)  loss_rpn_box_reg: 0.0154 (0.0160)  time: 1.4902  data: 0.0002  max mem: 8289\n",
            "Epoch: [0]  [ 700/4057]  eta: 1:20:37  lr: 0.003506  loss: 0.3138 (0.5270)  loss_classifier: 0.1313 (0.2831)  loss_box_reg: 0.1488 (0.2149)  loss_objectness: 0.0106 (0.0128)  loss_rpn_box_reg: 0.0175 (0.0162)  time: 1.5842  data: 0.0002  max mem: 8289\n",
            "Epoch: [0]  [ 800/4057]  eta: 1:18:16  lr: 0.004006  loss: 0.2407 (0.5021)  loss_classifier: 0.1151 (0.2650)  loss_box_reg: 0.1135 (0.2083)  loss_objectness: 0.0089 (0.0127)  loss_rpn_box_reg: 0.0078 (0.0162)  time: 1.3958  data: 0.0002  max mem: 8289\n",
            "Epoch: [0]  [ 900/4057]  eta: 1:16:02  lr: 0.004505  loss: 0.3275 (0.4858)  loss_classifier: 0.1355 (0.2526)  loss_box_reg: 0.1503 (0.2041)  loss_objectness: 0.0093 (0.0130)  loss_rpn_box_reg: 0.0182 (0.0162)  time: 1.4902  data: 0.0004  max mem: 8289\n",
            "Epoch: [0]  [1000/4057]  eta: 1:13:52  lr: 0.005000  loss: 0.2638 (0.4687)  loss_classifier: 0.1032 (0.2406)  loss_box_reg: 0.1261 (0.1986)  loss_objectness: 0.0064 (0.0131)  loss_rpn_box_reg: 0.0200 (0.0164)  time: 1.5412  data: 0.0003  max mem: 8289\n",
            "Epoch: [0]  [1100/4057]  eta: 1:11:28  lr: 0.005000  loss: 0.2818 (0.4555)  loss_classifier: 0.1210 (0.2309)  loss_box_reg: 0.1509 (0.1949)  loss_objectness: 0.0108 (0.0133)  loss_rpn_box_reg: 0.0165 (0.0164)  time: 1.4737  data: 0.0006  max mem: 8289\n",
            "Epoch: [0]  [1200/4057]  eta: 1:09:06  lr: 0.005000  loss: 0.2508 (0.4414)  loss_classifier: 0.0946 (0.2223)  loss_box_reg: 0.1182 (0.1897)  loss_objectness: 0.0078 (0.0133)  loss_rpn_box_reg: 0.0081 (0.0162)  time: 1.4469  data: 0.0002  max mem: 8289\n",
            "Epoch: [0]  [1300/4057]  eta: 1:06:51  lr: 0.005000  loss: 0.3196 (0.4298)  loss_classifier: 0.1374 (0.2149)  loss_box_reg: 0.1518 (0.1854)  loss_objectness: 0.0085 (0.0132)  loss_rpn_box_reg: 0.0169 (0.0163)  time: 1.4656  data: 0.0002  max mem: 8289\n",
            "Epoch: [0]  [1400/4057]  eta: 1:04:27  lr: 0.005000  loss: 0.3016 (0.4211)  loss_classifier: 0.1454 (0.2094)  loss_box_reg: 0.1343 (0.1823)  loss_objectness: 0.0063 (0.0131)  loss_rpn_box_reg: 0.0150 (0.0163)  time: 1.4540  data: 0.0002  max mem: 8289\n",
            "Epoch: [0]  [1500/4057]  eta: 1:02:11  lr: 0.005000  loss: 0.3074 (0.4132)  loss_classifier: 0.1223 (0.2039)  loss_box_reg: 0.1385 (0.1797)  loss_objectness: 0.0113 (0.0133)  loss_rpn_box_reg: 0.0145 (0.0163)  time: 1.5237  data: 0.0002  max mem: 8289\n",
            "Epoch: [0]  [1600/4057]  eta: 0:59:42  lr: 0.005000  loss: 0.2325 (0.4059)  loss_classifier: 0.1138 (0.1986)  loss_box_reg: 0.1089 (0.1773)  loss_objectness: 0.0059 (0.0136)  loss_rpn_box_reg: 0.0129 (0.0164)  time: 1.4055  data: 0.0007  max mem: 8289\n",
            "Epoch: [0]  [1700/4057]  eta: 0:57:16  lr: 0.005000  loss: 0.2930 (0.3987)  loss_classifier: 0.1259 (0.1942)  loss_box_reg: 0.1293 (0.1746)  loss_objectness: 0.0068 (0.0136)  loss_rpn_box_reg: 0.0122 (0.0163)  time: 1.5576  data: 0.0002  max mem: 8289\n",
            "Epoch: [0]  [1800/4057]  eta: 0:54:58  lr: 0.005000  loss: 0.2372 (0.3918)  loss_classifier: 0.0900 (0.1898)  loss_box_reg: 0.1109 (0.1721)  loss_objectness: 0.0099 (0.0136)  loss_rpn_box_reg: 0.0090 (0.0163)  time: 1.4806  data: 0.0003  max mem: 8289\n",
            "Epoch: [0]  [1900/4057]  eta: 0:52:33  lr: 0.005000  loss: 0.2095 (0.3858)  loss_classifier: 0.0944 (0.1862)  loss_box_reg: 0.1066 (0.1700)  loss_objectness: 0.0057 (0.0135)  loss_rpn_box_reg: 0.0111 (0.0162)  time: 1.5177  data: 0.0002  max mem: 8289\n",
            "Epoch: [0]  [2000/4057]  eta: 0:50:08  lr: 0.005000  loss: 0.2262 (0.3794)  loss_classifier: 0.0895 (0.1824)  loss_box_reg: 0.1085 (0.1674)  loss_objectness: 0.0101 (0.0134)  loss_rpn_box_reg: 0.0111 (0.0163)  time: 1.3750  data: 0.0002  max mem: 8289\n",
            "Epoch: [0]  [2100/4057]  eta: 0:47:40  lr: 0.005000  loss: 0.3095 (0.3749)  loss_classifier: 0.1335 (0.1796)  loss_box_reg: 0.1654 (0.1657)  loss_objectness: 0.0093 (0.0134)  loss_rpn_box_reg: 0.0170 (0.0163)  time: 1.3941  data: 0.0002  max mem: 8289\n",
            "Epoch: [0]  [2200/4057]  eta: 0:45:14  lr: 0.005000  loss: 0.2368 (0.3709)  loss_classifier: 0.1071 (0.1769)  loss_box_reg: 0.1006 (0.1644)  loss_objectness: 0.0124 (0.0133)  loss_rpn_box_reg: 0.0158 (0.0163)  time: 1.4658  data: 0.0002  max mem: 8289\n",
            "Epoch: [0]  [2300/4057]  eta: 0:42:48  lr: 0.005000  loss: 0.2708 (0.3660)  loss_classifier: 0.1164 (0.1741)  loss_box_reg: 0.1405 (0.1626)  loss_objectness: 0.0105 (0.0131)  loss_rpn_box_reg: 0.0116 (0.0162)  time: 1.3793  data: 0.0002  max mem: 8289\n",
            "Epoch: [0]  [2400/4057]  eta: 0:40:24  lr: 0.005000  loss: 0.2265 (0.3626)  loss_classifier: 0.0989 (0.1720)  loss_box_reg: 0.0953 (0.1614)  loss_objectness: 0.0054 (0.0130)  loss_rpn_box_reg: 0.0131 (0.0162)  time: 1.5669  data: 0.0002  max mem: 8289\n",
            "Epoch: [0]  [2500/4057]  eta: 0:37:58  lr: 0.005000  loss: 0.1960 (0.3582)  loss_classifier: 0.0872 (0.1696)  loss_box_reg: 0.0981 (0.1596)  loss_objectness: 0.0064 (0.0129)  loss_rpn_box_reg: 0.0113 (0.0162)  time: 1.5207  data: 0.0002  max mem: 8289\n",
            "Epoch: [0]  [2600/4057]  eta: 0:35:32  lr: 0.005000  loss: 0.2280 (0.3542)  loss_classifier: 0.1085 (0.1674)  loss_box_reg: 0.1015 (0.1579)  loss_objectness: 0.0075 (0.0128)  loss_rpn_box_reg: 0.0113 (0.0161)  time: 1.4227  data: 0.0002  max mem: 8289\n",
            "Epoch: [0]  [2700/4057]  eta: 0:33:06  lr: 0.005000  loss: 0.1815 (0.3500)  loss_classifier: 0.0792 (0.1651)  loss_box_reg: 0.0779 (0.1562)  loss_objectness: 0.0057 (0.0127)  loss_rpn_box_reg: 0.0131 (0.0161)  time: 1.4299  data: 0.0003  max mem: 8289\n",
            "Epoch: [0]  [2800/4057]  eta: 0:30:37  lr: 0.005000  loss: 0.2061 (0.3475)  loss_classifier: 0.0833 (0.1634)  loss_box_reg: 0.0961 (0.1551)  loss_objectness: 0.0090 (0.0128)  loss_rpn_box_reg: 0.0133 (0.0162)  time: 1.4271  data: 0.0007  max mem: 8289\n",
            "Epoch: [0]  [2900/4057]  eta: 0:28:12  lr: 0.005000  loss: 0.2175 (0.3441)  loss_classifier: 0.0890 (0.1616)  loss_box_reg: 0.0998 (0.1536)  loss_objectness: 0.0082 (0.0128)  loss_rpn_box_reg: 0.0118 (0.0162)  time: 1.5150  data: 0.0002  max mem: 8289\n",
            "Epoch: [0]  [3000/4057]  eta: 0:25:46  lr: 0.005000  loss: 0.2331 (0.3423)  loss_classifier: 0.0991 (0.1604)  loss_box_reg: 0.1080 (0.1527)  loss_objectness: 0.0071 (0.0130)  loss_rpn_box_reg: 0.0111 (0.0162)  time: 1.4215  data: 0.0002  max mem: 8289\n",
            "Epoch: [0]  [3100/4057]  eta: 0:23:20  lr: 0.005000  loss: 0.2484 (0.3399)  loss_classifier: 0.1200 (0.1590)  loss_box_reg: 0.1111 (0.1517)  loss_objectness: 0.0147 (0.0130)  loss_rpn_box_reg: 0.0123 (0.0162)  time: 1.4821  data: 0.0002  max mem: 8289\n",
            "Epoch: [0]  [3200/4057]  eta: 0:20:53  lr: 0.005000  loss: 0.2423 (0.3373)  loss_classifier: 0.0960 (0.1574)  loss_box_reg: 0.1057 (0.1507)  loss_objectness: 0.0066 (0.0130)  loss_rpn_box_reg: 0.0109 (0.0162)  time: 1.4291  data: 0.0002  max mem: 8289\n",
            "Epoch: [0]  [3300/4057]  eta: 0:18:26  lr: 0.005000  loss: 0.1961 (0.3351)  loss_classifier: 0.0719 (0.1560)  loss_box_reg: 0.0915 (0.1499)  loss_objectness: 0.0067 (0.0129)  loss_rpn_box_reg: 0.0112 (0.0162)  time: 1.4765  data: 0.0004  max mem: 8289\n",
            "Epoch: [0]  [3400/4057]  eta: 0:16:00  lr: 0.005000  loss: 0.2351 (0.3332)  loss_classifier: 0.1082 (0.1548)  loss_box_reg: 0.1108 (0.1493)  loss_objectness: 0.0072 (0.0129)  loss_rpn_box_reg: 0.0097 (0.0162)  time: 1.5161  data: 0.0005  max mem: 8289\n",
            "Epoch: [0]  [3500/4057]  eta: 0:13:34  lr: 0.005000  loss: 0.2280 (0.3302)  loss_classifier: 0.0837 (0.1532)  loss_box_reg: 0.0986 (0.1480)  loss_objectness: 0.0086 (0.0128)  loss_rpn_box_reg: 0.0109 (0.0162)  time: 1.4246  data: 0.0002  max mem: 8289\n",
            "Epoch: [0]  [3600/4057]  eta: 0:11:07  lr: 0.005000  loss: 0.2265 (0.3279)  loss_classifier: 0.0928 (0.1519)  loss_box_reg: 0.1056 (0.1471)  loss_objectness: 0.0105 (0.0128)  loss_rpn_box_reg: 0.0121 (0.0161)  time: 1.4412  data: 0.0004  max mem: 8289\n",
            "Epoch: [0]  [3700/4057]  eta: 0:08:41  lr: 0.005000  loss: 0.1529 (0.3258)  loss_classifier: 0.0747 (0.1508)  loss_box_reg: 0.0684 (0.1462)  loss_objectness: 0.0053 (0.0127)  loss_rpn_box_reg: 0.0081 (0.0160)  time: 1.4258  data: 0.0002  max mem: 8289\n",
            "Epoch: [0]  [3800/4057]  eta: 0:06:15  lr: 0.005000  loss: 0.2013 (0.3243)  loss_classifier: 0.0762 (0.1499)  loss_box_reg: 0.0944 (0.1456)  loss_objectness: 0.0092 (0.0127)  loss_rpn_box_reg: 0.0118 (0.0160)  time: 1.4279  data: 0.0004  max mem: 8289\n",
            "Epoch: [0]  [3900/4057]  eta: 0:03:49  lr: 0.005000  loss: 0.2174 (0.3228)  loss_classifier: 0.0916 (0.1491)  loss_box_reg: 0.0950 (0.1451)  loss_objectness: 0.0060 (0.0126)  loss_rpn_box_reg: 0.0086 (0.0160)  time: 1.3380  data: 0.0002  max mem: 8289\n",
            "Epoch: [0]  [4000/4057]  eta: 0:01:23  lr: 0.005000  loss: 0.2200 (0.3215)  loss_classifier: 0.0875 (0.1482)  loss_box_reg: 0.1105 (0.1446)  loss_objectness: 0.0088 (0.0127)  loss_rpn_box_reg: 0.0150 (0.0160)  time: 1.5183  data: 0.0003  max mem: 8289\n",
            "Epoch: [0]  [4056/4057]  eta: 0:00:01  lr: 0.005000  loss: 0.2577 (0.3207)  loss_classifier: 0.1148 (0.1477)  loss_box_reg: 0.1180 (0.1443)  loss_objectness: 0.0119 (0.0127)  loss_rpn_box_reg: 0.0113 (0.0160)  time: 1.4825  data: 0.0003  max mem: 8289\n",
            "Epoch: [0] Total time: 1:38:44 (1.4604 s / it)\n",
            "creating index...\n",
            "index created!\n",
            "Test:  [  0/225]  eta: 0:02:38  model_time: 0.4626 (0.4626)  evaluator_time: 0.0169 (0.0169)  time: 0.7039  data: 0.2229  max mem: 8289\n",
            "Test:  [100/225]  eta: 0:01:12  model_time: 0.5622 (0.5641)  evaluator_time: 0.0143 (0.0145)  time: 0.5679  data: 0.0002  max mem: 8289\n",
            "Test:  [200/225]  eta: 0:00:14  model_time: 0.5755 (0.5616)  evaluator_time: 0.0146 (0.0143)  time: 0.5967  data: 0.0001  max mem: 8289\n",
            "Test:  [224/225]  eta: 0:00:00  model_time: 0.5719 (0.5607)  evaluator_time: 0.0141 (0.0143)  time: 0.5669  data: 0.0001  max mem: 8289\n",
            "Test: Total time: 0:02:09 (0.5777 s / it)\n",
            "Averaged stats: model_time: 0.5719 (0.5607)  evaluator_time: 0.0141 (0.0143)\n",
            "Accumulating evaluation results...\n",
            "DONE (t=0.87s).\n",
            "IoU metric: bbox\n",
            " Average Precision  (AP) @[ IoU=0.50:0.95 | area=   all | maxDets=100 ] = 0.390\n",
            " Average Precision  (AP) @[ IoU=0.50      | area=   all | maxDets=100 ] = 0.678\n",
            " Average Precision  (AP) @[ IoU=0.75      | area=   all | maxDets=100 ] = 0.405\n",
            " Average Precision  (AP) @[ IoU=0.50:0.95 | area= small | maxDets=100 ] = 0.135\n",
            " Average Precision  (AP) @[ IoU=0.50:0.95 | area=medium | maxDets=100 ] = 0.326\n",
            " Average Precision  (AP) @[ IoU=0.50:0.95 | area= large | maxDets=100 ] = 0.453\n",
            " Average Recall     (AR) @[ IoU=0.50:0.95 | area=   all | maxDets=  1 ] = 0.362\n",
            " Average Recall     (AR) @[ IoU=0.50:0.95 | area=   all | maxDets= 10 ] = 0.563\n",
            " Average Recall     (AR) @[ IoU=0.50:0.95 | area=   all | maxDets=100 ] = 0.580\n",
            " Average Recall     (AR) @[ IoU=0.50:0.95 | area= small | maxDets=100 ] = 0.358\n",
            " Average Recall     (AR) @[ IoU=0.50:0.95 | area=medium | maxDets=100 ] = 0.543\n",
            " Average Recall     (AR) @[ IoU=0.50:0.95 | area= large | maxDets=100 ] = 0.616\n",
            "Epoch: [1]  [   0/4057]  eta: 1:29:33  lr: 0.005000  loss: 0.1806 (0.1806)  loss_classifier: 0.0931 (0.0931)  loss_box_reg: 0.0737 (0.0737)  loss_objectness: 0.0109 (0.0109)  loss_rpn_box_reg: 0.0028 (0.0028)  time: 1.3245  data: 0.2099  max mem: 8289\n",
            "Epoch: [1]  [ 100/4057]  eta: 1:33:43  lr: 0.005000  loss: 0.2321 (0.2295)  loss_classifier: 0.1036 (0.0997)  loss_box_reg: 0.1028 (0.1084)  loss_objectness: 0.0051 (0.0074)  loss_rpn_box_reg: 0.0111 (0.0139)  time: 1.4466  data: 0.0003  max mem: 8289\n",
            "Epoch: [1]  [ 200/4057]  eta: 1:32:58  lr: 0.005000  loss: 0.1629 (0.2312)  loss_classifier: 0.0778 (0.1010)  loss_box_reg: 0.0685 (0.1091)  loss_objectness: 0.0044 (0.0072)  loss_rpn_box_reg: 0.0076 (0.0138)  time: 1.4753  data: 0.0003  max mem: 8289\n",
            "Epoch: [1]  [ 300/4057]  eta: 1:30:39  lr: 0.005000  loss: 0.2417 (0.2313)  loss_classifier: 0.0949 (0.1001)  loss_box_reg: 0.1091 (0.1092)  loss_objectness: 0.0096 (0.0079)  loss_rpn_box_reg: 0.0102 (0.0141)  time: 1.3763  data: 0.0007  max mem: 8289\n",
            "Epoch: [1]  [ 400/4057]  eta: 1:28:52  lr: 0.005000  loss: 0.2004 (0.2327)  loss_classifier: 0.0871 (0.0998)  loss_box_reg: 0.0984 (0.1104)  loss_objectness: 0.0045 (0.0080)  loss_rpn_box_reg: 0.0114 (0.0145)  time: 1.4783  data: 0.0002  max mem: 8289\n",
            "Epoch: [1]  [ 500/4057]  eta: 1:26:23  lr: 0.005000  loss: 0.2179 (0.2348)  loss_classifier: 0.0956 (0.1006)  loss_box_reg: 0.0842 (0.1113)  loss_objectness: 0.0051 (0.0083)  loss_rpn_box_reg: 0.0153 (0.0146)  time: 1.5463  data: 0.0002  max mem: 8289\n",
            "Epoch: [1]  [ 600/4057]  eta: 1:24:06  lr: 0.005000  loss: 0.2296 (0.2366)  loss_classifier: 0.1043 (0.1012)  loss_box_reg: 0.1134 (0.1116)  loss_objectness: 0.0078 (0.0088)  loss_rpn_box_reg: 0.0111 (0.0149)  time: 1.4124  data: 0.0002  max mem: 8289\n",
            "Epoch: [1]  [ 700/4057]  eta: 1:21:44  lr: 0.005000  loss: 0.2306 (0.2370)  loss_classifier: 0.0900 (0.1007)  loss_box_reg: 0.1198 (0.1126)  loss_objectness: 0.0059 (0.0088)  loss_rpn_box_reg: 0.0116 (0.0149)  time: 1.3422  data: 0.0002  max mem: 8289\n",
            "Epoch: [1]  [ 800/4057]  eta: 1:19:25  lr: 0.005000  loss: 0.2103 (0.2385)  loss_classifier: 0.0885 (0.1016)  loss_box_reg: 0.1114 (0.1130)  loss_objectness: 0.0097 (0.0092)  loss_rpn_box_reg: 0.0099 (0.0147)  time: 1.5331  data: 0.0002  max mem: 8289\n",
            "Epoch: [1]  [ 900/4057]  eta: 1:16:57  lr: 0.005000  loss: 0.2102 (0.2408)  loss_classifier: 0.0819 (0.1025)  loss_box_reg: 0.0973 (0.1143)  loss_objectness: 0.0071 (0.0093)  loss_rpn_box_reg: 0.0097 (0.0148)  time: 1.4117  data: 0.0003  max mem: 8289\n",
            "Epoch: [1]  [1000/4057]  eta: 1:14:33  lr: 0.005000  loss: 0.2177 (0.2393)  loss_classifier: 0.1009 (0.1019)  loss_box_reg: 0.0964 (0.1137)  loss_objectness: 0.0054 (0.0091)  loss_rpn_box_reg: 0.0106 (0.0147)  time: 1.4846  data: 0.0002  max mem: 8289\n",
            "Epoch: [1]  [1100/4057]  eta: 1:12:03  lr: 0.005000  loss: 0.2444 (0.2413)  loss_classifier: 0.1157 (0.1030)  loss_box_reg: 0.1001 (0.1144)  loss_objectness: 0.0069 (0.0091)  loss_rpn_box_reg: 0.0136 (0.0147)  time: 1.4116  data: 0.0002  max mem: 8289\n",
            "Epoch: [1]  [1200/4057]  eta: 1:09:31  lr: 0.005000  loss: 0.1983 (0.2416)  loss_classifier: 0.0920 (0.1033)  loss_box_reg: 0.0948 (0.1146)  loss_objectness: 0.0039 (0.0091)  loss_rpn_box_reg: 0.0073 (0.0146)  time: 1.4238  data: 0.0002  max mem: 8289\n",
            "Epoch: [1]  [1300/4057]  eta: 1:07:09  lr: 0.005000  loss: 0.2712 (0.2437)  loss_classifier: 0.1037 (0.1042)  loss_box_reg: 0.1124 (0.1159)  loss_objectness: 0.0054 (0.0090)  loss_rpn_box_reg: 0.0131 (0.0146)  time: 1.4968  data: 0.0003  max mem: 8289\n",
            "Epoch: [1]  [1400/4057]  eta: 1:04:46  lr: 0.005000  loss: 0.2812 (0.2449)  loss_classifier: 0.0887 (0.1045)  loss_box_reg: 0.1415 (0.1166)  loss_objectness: 0.0060 (0.0092)  loss_rpn_box_reg: 0.0154 (0.0147)  time: 1.4412  data: 0.0002  max mem: 8289\n",
            "Epoch: [1]  [1500/4057]  eta: 1:02:31  lr: 0.005000  loss: 0.2196 (0.2465)  loss_classifier: 0.0877 (0.1052)  loss_box_reg: 0.1138 (0.1173)  loss_objectness: 0.0068 (0.0093)  loss_rpn_box_reg: 0.0089 (0.0147)  time: 1.5676  data: 0.0002  max mem: 8289\n",
            "Epoch: [1]  [1600/4057]  eta: 1:00:04  lr: 0.005000  loss: 0.1837 (0.2459)  loss_classifier: 0.0772 (0.1051)  loss_box_reg: 0.0781 (0.1169)  loss_objectness: 0.0059 (0.0092)  loss_rpn_box_reg: 0.0164 (0.0147)  time: 1.4259  data: 0.0002  max mem: 8289\n",
            "Epoch: [1]  [1700/4057]  eta: 0:57:33  lr: 0.005000  loss: 0.2057 (0.2449)  loss_classifier: 0.0880 (0.1047)  loss_box_reg: 0.0927 (0.1163)  loss_objectness: 0.0057 (0.0092)  loss_rpn_box_reg: 0.0096 (0.0147)  time: 1.4625  data: 0.0002  max mem: 8289\n",
            "Epoch: [1]  [1800/4057]  eta: 0:55:10  lr: 0.005000  loss: 0.1960 (0.2450)  loss_classifier: 0.1003 (0.1051)  loss_box_reg: 0.0821 (0.1158)  loss_objectness: 0.0050 (0.0092)  loss_rpn_box_reg: 0.0201 (0.0148)  time: 1.5039  data: 0.0002  max mem: 8289\n",
            "Epoch: [1]  [1900/4057]  eta: 0:52:43  lr: 0.005000  loss: 0.2193 (0.2457)  loss_classifier: 0.0947 (0.1055)  loss_box_reg: 0.1001 (0.1160)  loss_objectness: 0.0065 (0.0092)  loss_rpn_box_reg: 0.0087 (0.0149)  time: 1.4163  data: 0.0003  max mem: 8289\n",
            "Epoch: [1]  [2000/4057]  eta: 0:50:14  lr: 0.005000  loss: 0.2140 (0.2463)  loss_classifier: 0.1031 (0.1059)  loss_box_reg: 0.1004 (0.1162)  loss_objectness: 0.0073 (0.0093)  loss_rpn_box_reg: 0.0138 (0.0149)  time: 1.4692  data: 0.0002  max mem: 8289\n",
            "Epoch: [1]  [2100/4057]  eta: 0:47:52  lr: 0.005000  loss: 0.2074 (0.2461)  loss_classifier: 0.0798 (0.1061)  loss_box_reg: 0.0911 (0.1159)  loss_objectness: 0.0040 (0.0092)  loss_rpn_box_reg: 0.0115 (0.0149)  time: 1.4174  data: 0.0002  max mem: 8289\n",
            "Epoch: [1]  [2200/4057]  eta: 0:45:24  lr: 0.005000  loss: 0.1848 (0.2461)  loss_classifier: 0.0859 (0.1062)  loss_box_reg: 0.0757 (0.1158)  loss_objectness: 0.0057 (0.0093)  loss_rpn_box_reg: 0.0124 (0.0149)  time: 1.5230  data: 0.0002  max mem: 8289\n",
            "Epoch: [1]  [2300/4057]  eta: 0:43:00  lr: 0.005000  loss: 0.2412 (0.2452)  loss_classifier: 0.0965 (0.1058)  loss_box_reg: 0.1012 (0.1153)  loss_objectness: 0.0057 (0.0092)  loss_rpn_box_reg: 0.0147 (0.0149)  time: 1.5486  data: 0.0002  max mem: 8289\n",
            "Epoch: [1]  [2400/4057]  eta: 0:40:32  lr: 0.005000  loss: 0.2272 (0.2469)  loss_classifier: 0.0926 (0.1066)  loss_box_reg: 0.1005 (0.1158)  loss_objectness: 0.0092 (0.0094)  loss_rpn_box_reg: 0.0101 (0.0150)  time: 1.4025  data: 0.0002  max mem: 8289\n",
            "Epoch: [1]  [2500/4057]  eta: 0:38:02  lr: 0.005000  loss: 0.2207 (0.2479)  loss_classifier: 0.0894 (0.1072)  loss_box_reg: 0.1069 (0.1162)  loss_objectness: 0.0074 (0.0095)  loss_rpn_box_reg: 0.0144 (0.0151)  time: 1.5070  data: 0.0006  max mem: 8289\n",
            "Epoch: [1]  [2600/4057]  eta: 0:35:38  lr: 0.005000  loss: 0.2013 (0.2482)  loss_classifier: 0.0878 (0.1073)  loss_box_reg: 0.1046 (0.1163)  loss_objectness: 0.0074 (0.0095)  loss_rpn_box_reg: 0.0091 (0.0150)  time: 1.5261  data: 0.0002  max mem: 8289\n",
            "Epoch: [1]  [2700/4057]  eta: 0:33:11  lr: 0.005000  loss: 0.2398 (0.2482)  loss_classifier: 0.1135 (0.1074)  loss_box_reg: 0.1123 (0.1163)  loss_objectness: 0.0086 (0.0095)  loss_rpn_box_reg: 0.0120 (0.0151)  time: 1.3783  data: 0.0002  max mem: 8289\n",
            "Epoch: [1]  [2800/4057]  eta: 0:30:45  lr: 0.005000  loss: 0.2032 (0.2488)  loss_classifier: 0.0948 (0.1076)  loss_box_reg: 0.1060 (0.1166)  loss_objectness: 0.0066 (0.0095)  loss_rpn_box_reg: 0.0183 (0.0152)  time: 1.4390  data: 0.0002  max mem: 8289\n",
            "Epoch: [1]  [2900/4057]  eta: 0:28:20  lr: 0.005000  loss: 0.2210 (0.2492)  loss_classifier: 0.1033 (0.1078)  loss_box_reg: 0.0912 (0.1166)  loss_objectness: 0.0083 (0.0095)  loss_rpn_box_reg: 0.0154 (0.0152)  time: 1.5037  data: 0.0002  max mem: 8289\n",
            "Epoch: [1]  [3000/4057]  eta: 0:25:52  lr: 0.005000  loss: 0.2036 (0.2497)  loss_classifier: 0.0825 (0.1080)  loss_box_reg: 0.1013 (0.1169)  loss_objectness: 0.0074 (0.0095)  loss_rpn_box_reg: 0.0083 (0.0152)  time: 1.4954  data: 0.0002  max mem: 8289\n",
            "Epoch: [1]  [3100/4057]  eta: 0:23:25  lr: 0.005000  loss: 0.2024 (0.2498)  loss_classifier: 0.0960 (0.1081)  loss_box_reg: 0.1004 (0.1170)  loss_objectness: 0.0076 (0.0095)  loss_rpn_box_reg: 0.0133 (0.0153)  time: 1.3732  data: 0.0002  max mem: 8289\n",
            "Epoch: [1]  [3200/4057]  eta: 0:20:58  lr: 0.005000  loss: 0.2227 (0.2496)  loss_classifier: 0.0770 (0.1080)  loss_box_reg: 0.1133 (0.1168)  loss_objectness: 0.0055 (0.0095)  loss_rpn_box_reg: 0.0151 (0.0153)  time: 1.4504  data: 0.0008  max mem: 8289\n",
            "Epoch: [1]  [3300/4057]  eta: 0:18:31  lr: 0.005000  loss: 0.1919 (0.2505)  loss_classifier: 0.0906 (0.1084)  loss_box_reg: 0.0815 (0.1172)  loss_objectness: 0.0079 (0.0096)  loss_rpn_box_reg: 0.0078 (0.0153)  time: 1.4855  data: 0.0005  max mem: 8289\n",
            "Epoch: [1]  [3400/4057]  eta: 0:16:04  lr: 0.005000  loss: 0.2960 (0.2505)  loss_classifier: 0.1190 (0.1083)  loss_box_reg: 0.1506 (0.1172)  loss_objectness: 0.0072 (0.0096)  loss_rpn_box_reg: 0.0101 (0.0153)  time: 1.4715  data: 0.0003  max mem: 8289\n",
            "Epoch: [1]  [3500/4057]  eta: 0:13:38  lr: 0.005000  loss: 0.2205 (0.2504)  loss_classifier: 0.0929 (0.1083)  loss_box_reg: 0.1097 (0.1172)  loss_objectness: 0.0071 (0.0096)  loss_rpn_box_reg: 0.0101 (0.0154)  time: 1.4834  data: 0.0002  max mem: 8289\n",
            "Epoch: [1]  [3600/4057]  eta: 0:11:11  lr: 0.005000  loss: 0.2729 (0.2512)  loss_classifier: 0.1191 (0.1086)  loss_box_reg: 0.1174 (0.1174)  loss_objectness: 0.0095 (0.0097)  loss_rpn_box_reg: 0.0167 (0.0154)  time: 1.4949  data: 0.0003  max mem: 8289\n",
            "Epoch: [1]  [3700/4057]  eta: 0:08:44  lr: 0.005000  loss: 0.1876 (0.2507)  loss_classifier: 0.0892 (0.1084)  loss_box_reg: 0.0757 (0.1172)  loss_objectness: 0.0052 (0.0097)  loss_rpn_box_reg: 0.0095 (0.0154)  time: 1.4745  data: 0.0002  max mem: 8289\n",
            "Epoch: [1]  [3800/4057]  eta: 0:06:17  lr: 0.005000  loss: 0.2193 (0.2509)  loss_classifier: 0.0955 (0.1086)  loss_box_reg: 0.0954 (0.1172)  loss_objectness: 0.0049 (0.0097)  loss_rpn_box_reg: 0.0155 (0.0154)  time: 1.4541  data: 0.0003  max mem: 8289\n",
            "Epoch: [1]  [3900/4057]  eta: 0:03:50  lr: 0.005000  loss: 0.2356 (0.2511)  loss_classifier: 0.0895 (0.1087)  loss_box_reg: 0.0965 (0.1173)  loss_objectness: 0.0084 (0.0097)  loss_rpn_box_reg: 0.0121 (0.0154)  time: 1.4147  data: 0.0002  max mem: 8289\n",
            "Epoch: [1]  [4000/4057]  eta: 0:01:23  lr: 0.005000  loss: 0.1778 (0.2512)  loss_classifier: 0.0880 (0.1088)  loss_box_reg: 0.1007 (0.1173)  loss_objectness: 0.0053 (0.0097)  loss_rpn_box_reg: 0.0133 (0.0155)  time: 1.5099  data: 0.0002  max mem: 8289\n",
            "Epoch: [1]  [4056/4057]  eta: 0:00:01  lr: 0.005000  loss: 0.1640 (0.2512)  loss_classifier: 0.0782 (0.1088)  loss_box_reg: 0.0740 (0.1172)  loss_objectness: 0.0079 (0.0097)  loss_rpn_box_reg: 0.0091 (0.0155)  time: 1.4789  data: 0.0004  max mem: 8289\n",
            "Epoch: [1] Total time: 1:39:24 (1.4702 s / it)\n",
            "creating index...\n",
            "index created!\n",
            "Test:  [  0/225]  eta: 0:02:43  model_time: 0.4946 (0.4946)  evaluator_time: 0.0087 (0.0087)  time: 0.7288  data: 0.2240  max mem: 8289\n",
            "Test:  [100/225]  eta: 0:01:12  model_time: 0.5676 (0.5698)  evaluator_time: 0.0076 (0.0078)  time: 0.5672  data: 0.0005  max mem: 8289\n",
            "Test:  [200/225]  eta: 0:00:14  model_time: 0.5813 (0.5677)  evaluator_time: 0.0080 (0.0078)  time: 0.5984  data: 0.0001  max mem: 8289\n",
            "Test:  [224/225]  eta: 0:00:00  model_time: 0.5671 (0.5666)  evaluator_time: 0.0081 (0.0080)  time: 0.5668  data: 0.0001  max mem: 8289\n",
            "Test: Total time: 0:02:09 (0.5774 s / it)\n",
            "Averaged stats: model_time: 0.5671 (0.5666)  evaluator_time: 0.0081 (0.0080)\n",
            "Accumulating evaluation results...\n",
            "DONE (t=0.51s).\n",
            "IoU metric: bbox\n",
            " Average Precision  (AP) @[ IoU=0.50:0.95 | area=   all | maxDets=100 ] = 0.427\n",
            " Average Precision  (AP) @[ IoU=0.50      | area=   all | maxDets=100 ] = 0.713\n",
            " Average Precision  (AP) @[ IoU=0.75      | area=   all | maxDets=100 ] = 0.455\n",
            " Average Precision  (AP) @[ IoU=0.50:0.95 | area= small | maxDets=100 ] = 0.137\n",
            " Average Precision  (AP) @[ IoU=0.50:0.95 | area=medium | maxDets=100 ] = 0.355\n",
            " Average Precision  (AP) @[ IoU=0.50:0.95 | area= large | maxDets=100 ] = 0.497\n",
            " Average Recall     (AR) @[ IoU=0.50:0.95 | area=   all | maxDets=  1 ] = 0.381\n",
            " Average Recall     (AR) @[ IoU=0.50:0.95 | area=   all | maxDets= 10 ] = 0.555\n",
            " Average Recall     (AR) @[ IoU=0.50:0.95 | area=   all | maxDets=100 ] = 0.561\n",
            " Average Recall     (AR) @[ IoU=0.50:0.95 | area= small | maxDets=100 ] = 0.225\n",
            " Average Recall     (AR) @[ IoU=0.50:0.95 | area=medium | maxDets=100 ] = 0.504\n",
            " Average Recall     (AR) @[ IoU=0.50:0.95 | area= large | maxDets=100 ] = 0.614\n",
            "Epoch: [2]  [   0/4057]  eta: 1:45:11  lr: 0.000500  loss: 0.3058 (0.3058)  loss_classifier: 0.1128 (0.1128)  loss_box_reg: 0.1465 (0.1465)  loss_objectness: 0.0097 (0.0097)  loss_rpn_box_reg: 0.0369 (0.0369)  time: 1.5558  data: 0.2111  max mem: 8289\n",
            "Epoch: [2]  [ 100/4057]  eta: 1:38:11  lr: 0.000500  loss: 0.2060 (0.2240)  loss_classifier: 0.0893 (0.0918)  loss_box_reg: 0.0931 (0.1094)  loss_objectness: 0.0057 (0.0075)  loss_rpn_box_reg: 0.0183 (0.0153)  time: 1.5297  data: 0.0003  max mem: 8289\n",
            "Epoch: [2]  [ 200/4057]  eta: 1:35:17  lr: 0.000500  loss: 0.1876 (0.2196)  loss_classifier: 0.0764 (0.0907)  loss_box_reg: 0.0841 (0.1068)  loss_objectness: 0.0040 (0.0073)  loss_rpn_box_reg: 0.0114 (0.0148)  time: 1.4968  data: 0.0002  max mem: 8289\n",
            "Epoch: [2]  [ 300/4057]  eta: 1:32:30  lr: 0.000500  loss: 0.1517 (0.2129)  loss_classifier: 0.0654 (0.0879)  loss_box_reg: 0.0771 (0.1033)  loss_objectness: 0.0032 (0.0070)  loss_rpn_box_reg: 0.0068 (0.0146)  time: 1.5114  data: 0.0002  max mem: 8289\n",
            "Epoch: [2]  [ 400/4057]  eta: 1:29:32  lr: 0.000500  loss: 0.1175 (0.2091)  loss_classifier: 0.0518 (0.0870)  loss_box_reg: 0.0590 (0.1011)  loss_objectness: 0.0029 (0.0068)  loss_rpn_box_reg: 0.0085 (0.0141)  time: 1.4476  data: 0.0004  max mem: 8289\n",
            "Epoch: [2]  [ 500/4057]  eta: 1:27:22  lr: 0.000500  loss: 0.1455 (0.2074)  loss_classifier: 0.0706 (0.0863)  loss_box_reg: 0.0724 (0.1005)  loss_objectness: 0.0036 (0.0066)  loss_rpn_box_reg: 0.0089 (0.0140)  time: 1.5324  data: 0.0002  max mem: 8289\n",
            "Epoch: [2]  [ 600/4057]  eta: 1:24:44  lr: 0.000500  loss: 0.1993 (0.2112)  loss_classifier: 0.0810 (0.0875)  loss_box_reg: 0.1179 (0.1031)  loss_objectness: 0.0068 (0.0066)  loss_rpn_box_reg: 0.0096 (0.0139)  time: 1.4964  data: 0.0003  max mem: 8289\n",
            "Epoch: [2]  [ 700/4057]  eta: 1:21:59  lr: 0.000500  loss: 0.1645 (0.2096)  loss_classifier: 0.0727 (0.0866)  loss_box_reg: 0.0825 (0.1027)  loss_objectness: 0.0036 (0.0065)  loss_rpn_box_reg: 0.0076 (0.0138)  time: 1.4592  data: 0.0003  max mem: 8289\n",
            "Epoch: [2]  [ 800/4057]  eta: 1:19:39  lr: 0.000500  loss: 0.1326 (0.2056)  loss_classifier: 0.0637 (0.0849)  loss_box_reg: 0.0733 (0.1006)  loss_objectness: 0.0038 (0.0064)  loss_rpn_box_reg: 0.0110 (0.0137)  time: 1.4265  data: 0.0002  max mem: 8289\n",
            "Epoch: [2]  [ 900/4057]  eta: 1:17:10  lr: 0.000500  loss: 0.2193 (0.2052)  loss_classifier: 0.1015 (0.0849)  loss_box_reg: 0.1036 (0.1001)  loss_objectness: 0.0058 (0.0064)  loss_rpn_box_reg: 0.0122 (0.0138)  time: 1.4629  data: 0.0002  max mem: 8289\n",
            "Epoch: [2]  [1000/4057]  eta: 1:14:44  lr: 0.000500  loss: 0.1756 (0.2043)  loss_classifier: 0.0693 (0.0845)  loss_box_reg: 0.0762 (0.0996)  loss_objectness: 0.0036 (0.0064)  loss_rpn_box_reg: 0.0077 (0.0138)  time: 1.4597  data: 0.0002  max mem: 8289\n",
            "Epoch: [2]  [1100/4057]  eta: 1:12:18  lr: 0.000500  loss: 0.2213 (0.2039)  loss_classifier: 0.0784 (0.0838)  loss_box_reg: 0.1018 (0.0998)  loss_objectness: 0.0068 (0.0065)  loss_rpn_box_reg: 0.0109 (0.0138)  time: 1.4170  data: 0.0003  max mem: 8289\n",
            "Epoch: [2]  [1200/4057]  eta: 1:09:45  lr: 0.000500  loss: 0.1736 (0.2024)  loss_classifier: 0.0769 (0.0832)  loss_box_reg: 0.0717 (0.0992)  loss_objectness: 0.0050 (0.0064)  loss_rpn_box_reg: 0.0086 (0.0137)  time: 1.5021  data: 0.0002  max mem: 8289\n",
            "Epoch: [2]  [1300/4057]  eta: 1:07:19  lr: 0.000500  loss: 0.1527 (0.2007)  loss_classifier: 0.0579 (0.0824)  loss_box_reg: 0.0921 (0.0985)  loss_objectness: 0.0031 (0.0063)  loss_rpn_box_reg: 0.0105 (0.0136)  time: 1.5101  data: 0.0002  max mem: 8289\n",
            "Epoch: [2]  [1400/4057]  eta: 1:04:58  lr: 0.000500  loss: 0.2148 (0.2003)  loss_classifier: 0.0746 (0.0820)  loss_box_reg: 0.1086 (0.0984)  loss_objectness: 0.0044 (0.0062)  loss_rpn_box_reg: 0.0133 (0.0136)  time: 1.5535  data: 0.0002  max mem: 8289\n",
            "Epoch: [2]  [1500/4057]  eta: 1:02:32  lr: 0.000500  loss: 0.1474 (0.2002)  loss_classifier: 0.0561 (0.0820)  loss_box_reg: 0.0658 (0.0984)  loss_objectness: 0.0025 (0.0062)  loss_rpn_box_reg: 0.0094 (0.0135)  time: 1.4904  data: 0.0003  max mem: 8289\n",
            "Epoch: [2]  [1600/4057]  eta: 1:00:10  lr: 0.000500  loss: 0.1858 (0.2000)  loss_classifier: 0.0685 (0.0820)  loss_box_reg: 0.0845 (0.0983)  loss_objectness: 0.0031 (0.0062)  loss_rpn_box_reg: 0.0086 (0.0135)  time: 1.4864  data: 0.0005  max mem: 8289\n",
            "Epoch: [2]  [1700/4057]  eta: 0:57:43  lr: 0.000500  loss: 0.1559 (0.1997)  loss_classifier: 0.0629 (0.0818)  loss_box_reg: 0.0775 (0.0982)  loss_objectness: 0.0051 (0.0063)  loss_rpn_box_reg: 0.0077 (0.0135)  time: 1.5235  data: 0.0002  max mem: 8289\n",
            "Epoch: [2]  [1800/4057]  eta: 0:55:17  lr: 0.000500  loss: 0.1267 (0.1992)  loss_classifier: 0.0518 (0.0816)  loss_box_reg: 0.0618 (0.0980)  loss_objectness: 0.0024 (0.0062)  loss_rpn_box_reg: 0.0091 (0.0134)  time: 1.5445  data: 0.0002  max mem: 8289\n",
            "Epoch: [2]  [1900/4057]  eta: 0:52:49  lr: 0.000500  loss: 0.1820 (0.1996)  loss_classifier: 0.0717 (0.0817)  loss_box_reg: 0.0984 (0.0982)  loss_objectness: 0.0048 (0.0062)  loss_rpn_box_reg: 0.0077 (0.0134)  time: 1.4041  data: 0.0002  max mem: 8289\n",
            "Epoch: [2]  [2000/4057]  eta: 0:50:21  lr: 0.000500  loss: 0.1564 (0.2001)  loss_classifier: 0.0738 (0.0820)  loss_box_reg: 0.0775 (0.0986)  loss_objectness: 0.0056 (0.0061)  loss_rpn_box_reg: 0.0082 (0.0134)  time: 1.4306  data: 0.0002  max mem: 8289\n",
            "Epoch: [2]  [2100/4057]  eta: 0:47:59  lr: 0.000500  loss: 0.1753 (0.2000)  loss_classifier: 0.0740 (0.0819)  loss_box_reg: 0.1008 (0.0985)  loss_objectness: 0.0052 (0.0062)  loss_rpn_box_reg: 0.0107 (0.0135)  time: 1.4789  data: 0.0002  max mem: 8289\n",
            "Epoch: [2]  [2200/4057]  eta: 0:45:34  lr: 0.000500  loss: 0.1610 (0.2001)  loss_classifier: 0.0631 (0.0819)  loss_box_reg: 0.0898 (0.0985)  loss_objectness: 0.0037 (0.0062)  loss_rpn_box_reg: 0.0079 (0.0135)  time: 1.4837  data: 0.0002  max mem: 8289\n",
            "Epoch: [2]  [2300/4057]  eta: 0:43:08  lr: 0.000500  loss: 0.1871 (0.2004)  loss_classifier: 0.0747 (0.0821)  loss_box_reg: 0.0758 (0.0987)  loss_objectness: 0.0045 (0.0062)  loss_rpn_box_reg: 0.0116 (0.0134)  time: 1.5170  data: 0.0002  max mem: 8289\n",
            "Epoch: [2]  [2400/4057]  eta: 0:40:38  lr: 0.000500  loss: 0.1669 (0.2002)  loss_classifier: 0.0662 (0.0820)  loss_box_reg: 0.0864 (0.0987)  loss_objectness: 0.0046 (0.0062)  loss_rpn_box_reg: 0.0093 (0.0134)  time: 1.4584  data: 0.0003  max mem: 8289\n",
            "Epoch: [2]  [2500/4057]  eta: 0:38:13  lr: 0.000500  loss: 0.1872 (0.2004)  loss_classifier: 0.0715 (0.0820)  loss_box_reg: 0.0953 (0.0988)  loss_objectness: 0.0056 (0.0062)  loss_rpn_box_reg: 0.0122 (0.0134)  time: 1.4807  data: 0.0006  max mem: 8289\n",
            "Epoch: [2]  [2600/4057]  eta: 0:35:45  lr: 0.000500  loss: 0.1616 (0.2004)  loss_classifier: 0.0629 (0.0819)  loss_box_reg: 0.0779 (0.0988)  loss_objectness: 0.0043 (0.0062)  loss_rpn_box_reg: 0.0110 (0.0134)  time: 1.4509  data: 0.0003  max mem: 8289\n",
            "Epoch: [2]  [2700/4057]  eta: 0:33:17  lr: 0.000500  loss: 0.1574 (0.2001)  loss_classifier: 0.0639 (0.0818)  loss_box_reg: 0.0738 (0.0987)  loss_objectness: 0.0030 (0.0061)  loss_rpn_box_reg: 0.0119 (0.0134)  time: 1.4489  data: 0.0003  max mem: 8289\n",
            "Epoch: [2]  [2800/4057]  eta: 0:30:48  lr: 0.000500  loss: 0.1914 (0.2003)  loss_classifier: 0.0673 (0.0819)  loss_box_reg: 0.0895 (0.0989)  loss_objectness: 0.0034 (0.0061)  loss_rpn_box_reg: 0.0110 (0.0134)  time: 1.5337  data: 0.0002  max mem: 8289\n",
            "Epoch: [2]  [2900/4057]  eta: 0:28:21  lr: 0.000500  loss: 0.1235 (0.2000)  loss_classifier: 0.0526 (0.0817)  loss_box_reg: 0.0723 (0.0988)  loss_objectness: 0.0035 (0.0061)  loss_rpn_box_reg: 0.0086 (0.0134)  time: 1.3362  data: 0.0002  max mem: 8289\n",
            "Epoch: [2]  [3000/4057]  eta: 0:25:55  lr: 0.000500  loss: 0.1326 (0.1997)  loss_classifier: 0.0660 (0.0816)  loss_box_reg: 0.0613 (0.0986)  loss_objectness: 0.0046 (0.0061)  loss_rpn_box_reg: 0.0049 (0.0133)  time: 1.4092  data: 0.0002  max mem: 8289\n",
            "Epoch: [2]  [3100/4057]  eta: 0:23:28  lr: 0.000500  loss: 0.1578 (0.1997)  loss_classifier: 0.0591 (0.0816)  loss_box_reg: 0.0851 (0.0987)  loss_objectness: 0.0043 (0.0061)  loss_rpn_box_reg: 0.0111 (0.0134)  time: 1.5364  data: 0.0007  max mem: 8289\n",
            "Epoch: [2]  [3200/4057]  eta: 0:21:01  lr: 0.000500  loss: 0.1457 (0.1994)  loss_classifier: 0.0590 (0.0815)  loss_box_reg: 0.0740 (0.0985)  loss_objectness: 0.0036 (0.0060)  loss_rpn_box_reg: 0.0100 (0.0133)  time: 1.5305  data: 0.0002  max mem: 8289\n",
            "Epoch: [2]  [3300/4057]  eta: 0:18:34  lr: 0.000500  loss: 0.1747 (0.1991)  loss_classifier: 0.0668 (0.0814)  loss_box_reg: 0.1091 (0.0984)  loss_objectness: 0.0054 (0.0060)  loss_rpn_box_reg: 0.0059 (0.0133)  time: 1.5141  data: 0.0002  max mem: 8289\n",
            "Epoch: [2]  [3400/4057]  eta: 0:16:08  lr: 0.000500  loss: 0.1234 (0.1985)  loss_classifier: 0.0439 (0.0812)  loss_box_reg: 0.0608 (0.0981)  loss_objectness: 0.0018 (0.0060)  loss_rpn_box_reg: 0.0080 (0.0133)  time: 1.4892  data: 0.0002  max mem: 8289\n",
            "Epoch: [2]  [3500/4057]  eta: 0:13:40  lr: 0.000500  loss: 0.1625 (0.1982)  loss_classifier: 0.0767 (0.0811)  loss_box_reg: 0.0858 (0.0978)  loss_objectness: 0.0032 (0.0060)  loss_rpn_box_reg: 0.0086 (0.0133)  time: 1.4495  data: 0.0007  max mem: 8289\n",
            "Epoch: [2]  [3600/4057]  eta: 0:11:13  lr: 0.000500  loss: 0.1734 (0.1978)  loss_classifier: 0.0642 (0.0810)  loss_box_reg: 0.0818 (0.0975)  loss_objectness: 0.0053 (0.0059)  loss_rpn_box_reg: 0.0093 (0.0133)  time: 1.4762  data: 0.0004  max mem: 8289\n",
            "Epoch: [2]  [3700/4057]  eta: 0:08:45  lr: 0.000500  loss: 0.2218 (0.1979)  loss_classifier: 0.0917 (0.0811)  loss_box_reg: 0.0849 (0.0976)  loss_objectness: 0.0062 (0.0059)  loss_rpn_box_reg: 0.0089 (0.0133)  time: 1.3760  data: 0.0006  max mem: 8289\n",
            "Epoch: [2]  [3800/4057]  eta: 0:06:18  lr: 0.000500  loss: 0.1361 (0.1974)  loss_classifier: 0.0588 (0.0808)  loss_box_reg: 0.0651 (0.0974)  loss_objectness: 0.0041 (0.0059)  loss_rpn_box_reg: 0.0093 (0.0133)  time: 1.4871  data: 0.0002  max mem: 8289\n",
            "Epoch: [2]  [3900/4057]  eta: 0:03:51  lr: 0.000500  loss: 0.1856 (0.1973)  loss_classifier: 0.0785 (0.0808)  loss_box_reg: 0.0937 (0.0973)  loss_objectness: 0.0041 (0.0059)  loss_rpn_box_reg: 0.0067 (0.0133)  time: 1.4101  data: 0.0002  max mem: 8289\n",
            "Epoch: [2]  [4000/4057]  eta: 0:01:23  lr: 0.000500  loss: 0.1410 (0.1971)  loss_classifier: 0.0648 (0.0807)  loss_box_reg: 0.0763 (0.0973)  loss_objectness: 0.0042 (0.0059)  loss_rpn_box_reg: 0.0104 (0.0133)  time: 1.4170  data: 0.0003  max mem: 8289\n",
            "Epoch: [2]  [4056/4057]  eta: 0:00:01  lr: 0.000500  loss: 0.1576 (0.1969)  loss_classifier: 0.0654 (0.0806)  loss_box_reg: 0.0782 (0.0972)  loss_objectness: 0.0045 (0.0059)  loss_rpn_box_reg: 0.0098 (0.0132)  time: 1.4329  data: 0.0003  max mem: 8289\n",
            "Epoch: [2] Total time: 1:39:36 (1.4731 s / it)\n",
            "creating index...\n",
            "index created!\n",
            "Test:  [  0/225]  eta: 0:02:40  model_time: 0.4725 (0.4725)  evaluator_time: 0.0113 (0.0113)  time: 0.7151  data: 0.2296  max mem: 8289\n",
            "Test:  [100/225]  eta: 0:01:12  model_time: 0.5687 (0.5712)  evaluator_time: 0.0075 (0.0077)  time: 0.5665  data: 0.0001  max mem: 8289\n",
            "Test:  [200/225]  eta: 0:00:14  model_time: 0.5867 (0.5689)  evaluator_time: 0.0083 (0.0077)  time: 0.6006  data: 0.0001  max mem: 8289\n",
            "Test:  [224/225]  eta: 0:00:00  model_time: 0.5759 (0.5678)  evaluator_time: 0.0088 (0.0080)  time: 0.5680  data: 0.0001  max mem: 8289\n",
            "Test: Total time: 0:02:10 (0.5785 s / it)\n",
            "Averaged stats: model_time: 0.5759 (0.5678)  evaluator_time: 0.0088 (0.0080)\n",
            "Accumulating evaluation results...\n",
            "DONE (t=0.46s).\n",
            "IoU metric: bbox\n",
            " Average Precision  (AP) @[ IoU=0.50:0.95 | area=   all | maxDets=100 ] = 0.506\n",
            " Average Precision  (AP) @[ IoU=0.50      | area=   all | maxDets=100 ] = 0.774\n",
            " Average Precision  (AP) @[ IoU=0.75      | area=   all | maxDets=100 ] = 0.560\n",
            " Average Precision  (AP) @[ IoU=0.50:0.95 | area= small | maxDets=100 ] = 0.193\n",
            " Average Precision  (AP) @[ IoU=0.50:0.95 | area=medium | maxDets=100 ] = 0.407\n",
            " Average Precision  (AP) @[ IoU=0.50:0.95 | area= large | maxDets=100 ] = 0.582\n",
            " Average Recall     (AR) @[ IoU=0.50:0.95 | area=   all | maxDets=  1 ] = 0.428\n",
            " Average Recall     (AR) @[ IoU=0.50:0.95 | area=   all | maxDets= 10 ] = 0.617\n",
            " Average Recall     (AR) @[ IoU=0.50:0.95 | area=   all | maxDets=100 ] = 0.625\n",
            " Average Recall     (AR) @[ IoU=0.50:0.95 | area= small | maxDets=100 ] = 0.312\n",
            " Average Recall     (AR) @[ IoU=0.50:0.95 | area=medium | maxDets=100 ] = 0.534\n",
            " Average Recall     (AR) @[ IoU=0.50:0.95 | area= large | maxDets=100 ] = 0.687\n",
            "Epoch: [3]  [   0/4057]  eta: 2:06:44  lr: 0.000500  loss: 0.4677 (0.4677)  loss_classifier: 0.1690 (0.1690)  loss_box_reg: 0.2414 (0.2414)  loss_objectness: 0.0246 (0.0246)  loss_rpn_box_reg: 0.0327 (0.0327)  time: 1.8744  data: 0.2530  max mem: 8289\n",
            "Epoch: [3]  [ 100/4057]  eta: 1:38:07  lr: 0.000500  loss: 0.1387 (0.1896)  loss_classifier: 0.0591 (0.0765)  loss_box_reg: 0.0736 (0.0953)  loss_objectness: 0.0032 (0.0048)  loss_rpn_box_reg: 0.0118 (0.0130)  time: 1.5308  data: 0.0007  max mem: 8289\n",
            "Epoch: [3]  [ 200/4057]  eta: 1:35:10  lr: 0.000500  loss: 0.1807 (0.1904)  loss_classifier: 0.0762 (0.0767)  loss_box_reg: 0.0966 (0.0959)  loss_objectness: 0.0045 (0.0052)  loss_rpn_box_reg: 0.0118 (0.0127)  time: 1.4415  data: 0.0002  max mem: 8289\n",
            "Epoch: [3]  [ 300/4057]  eta: 1:32:51  lr: 0.000500  loss: 0.1245 (0.1840)  loss_classifier: 0.0487 (0.0740)  loss_box_reg: 0.0611 (0.0922)  loss_objectness: 0.0027 (0.0051)  loss_rpn_box_reg: 0.0130 (0.0127)  time: 1.5617  data: 0.0002  max mem: 8289\n",
            "Epoch: [3]  [ 400/4057]  eta: 1:30:07  lr: 0.000500  loss: 0.1451 (0.1828)  loss_classifier: 0.0628 (0.0740)  loss_box_reg: 0.0677 (0.0912)  loss_objectness: 0.0028 (0.0049)  loss_rpn_box_reg: 0.0078 (0.0126)  time: 1.4735  data: 0.0002  max mem: 8289\n",
            "Epoch: [3]  [ 500/4057]  eta: 1:27:33  lr: 0.000500  loss: 0.1465 (0.1812)  loss_classifier: 0.0531 (0.0734)  loss_box_reg: 0.0778 (0.0905)  loss_objectness: 0.0020 (0.0050)  loss_rpn_box_reg: 0.0168 (0.0123)  time: 1.5060  data: 0.0002  max mem: 8289\n",
            "Epoch: [3]  [ 600/4057]  eta: 1:25:04  lr: 0.000500  loss: 0.2044 (0.1835)  loss_classifier: 0.0691 (0.0738)  loss_box_reg: 0.1092 (0.0920)  loss_objectness: 0.0028 (0.0051)  loss_rpn_box_reg: 0.0094 (0.0126)  time: 1.4871  data: 0.0002  max mem: 8289\n",
            "Epoch: [3]  [ 700/4057]  eta: 1:22:32  lr: 0.000500  loss: 0.1940 (0.1847)  loss_classifier: 0.0821 (0.0746)  loss_box_reg: 0.0944 (0.0923)  loss_objectness: 0.0053 (0.0051)  loss_rpn_box_reg: 0.0107 (0.0126)  time: 1.3822  data: 0.0002  max mem: 8289\n",
            "Epoch: [3]  [ 800/4057]  eta: 1:20:18  lr: 0.000500  loss: 0.1582 (0.1846)  loss_classifier: 0.0666 (0.0744)  loss_box_reg: 0.0712 (0.0923)  loss_objectness: 0.0040 (0.0051)  loss_rpn_box_reg: 0.0102 (0.0128)  time: 1.4975  data: 0.0002  max mem: 8289\n",
            "Epoch: [3]  [ 900/4057]  eta: 1:17:43  lr: 0.000500  loss: 0.1910 (0.1835)  loss_classifier: 0.0802 (0.0741)  loss_box_reg: 0.0984 (0.0915)  loss_objectness: 0.0063 (0.0051)  loss_rpn_box_reg: 0.0101 (0.0128)  time: 1.4951  data: 0.0002  max mem: 8289\n",
            "Epoch: [3]  [1000/4057]  eta: 1:15:14  lr: 0.000500  loss: 0.1562 (0.1836)  loss_classifier: 0.0727 (0.0743)  loss_box_reg: 0.0855 (0.0914)  loss_objectness: 0.0042 (0.0051)  loss_rpn_box_reg: 0.0076 (0.0128)  time: 1.5605  data: 0.0005  max mem: 8289\n",
            "Epoch: [3]  [1100/4057]  eta: 1:12:43  lr: 0.000500  loss: 0.1446 (0.1818)  loss_classifier: 0.0524 (0.0736)  loss_box_reg: 0.0652 (0.0905)  loss_objectness: 0.0028 (0.0050)  loss_rpn_box_reg: 0.0109 (0.0127)  time: 1.4782  data: 0.0009  max mem: 8289\n",
            "Epoch: [3]  [1200/4057]  eta: 1:10:10  lr: 0.000500  loss: 0.1772 (0.1829)  loss_classifier: 0.0683 (0.0742)  loss_box_reg: 0.0797 (0.0909)  loss_objectness: 0.0035 (0.0050)  loss_rpn_box_reg: 0.0102 (0.0127)  time: 1.4615  data: 0.0004  max mem: 8289\n",
            "Epoch: [3]  [1300/4057]  eta: 1:07:49  lr: 0.000500  loss: 0.1946 (0.1842)  loss_classifier: 0.0689 (0.0745)  loss_box_reg: 0.0937 (0.0916)  loss_objectness: 0.0042 (0.0052)  loss_rpn_box_reg: 0.0111 (0.0129)  time: 1.4685  data: 0.0002  max mem: 8289\n",
            "Epoch: [3]  [1400/4057]  eta: 1:05:18  lr: 0.000500  loss: 0.1186 (0.1840)  loss_classifier: 0.0529 (0.0746)  loss_box_reg: 0.0498 (0.0915)  loss_objectness: 0.0024 (0.0052)  loss_rpn_box_reg: 0.0076 (0.0127)  time: 1.5006  data: 0.0002  max mem: 8289\n",
            "Epoch: [3]  [1500/4057]  eta: 1:02:45  lr: 0.000500  loss: 0.1169 (0.1823)  loss_classifier: 0.0546 (0.0739)  loss_box_reg: 0.0544 (0.0906)  loss_objectness: 0.0024 (0.0052)  loss_rpn_box_reg: 0.0070 (0.0126)  time: 1.3929  data: 0.0002  max mem: 8289\n",
            "Epoch: [3]  [1600/4057]  eta: 1:00:22  lr: 0.000500  loss: 0.1693 (0.1832)  loss_classifier: 0.0666 (0.0743)  loss_box_reg: 0.0702 (0.0910)  loss_objectness: 0.0034 (0.0052)  loss_rpn_box_reg: 0.0071 (0.0126)  time: 1.5283  data: 0.0002  max mem: 8289\n",
            "Epoch: [3]  [1700/4057]  eta: 0:57:50  lr: 0.000500  loss: 0.1953 (0.1834)  loss_classifier: 0.0684 (0.0743)  loss_box_reg: 0.1045 (0.0913)  loss_objectness: 0.0054 (0.0052)  loss_rpn_box_reg: 0.0128 (0.0126)  time: 1.5127  data: 0.0002  max mem: 8289\n",
            "Epoch: [3]  [1800/4057]  eta: 0:55:25  lr: 0.000500  loss: 0.1678 (0.1840)  loss_classifier: 0.0626 (0.0746)  loss_box_reg: 0.0770 (0.0916)  loss_objectness: 0.0025 (0.0052)  loss_rpn_box_reg: 0.0125 (0.0127)  time: 1.5124  data: 0.0003  max mem: 8289\n",
            "Epoch: [3]  [1900/4057]  eta: 0:52:54  lr: 0.000500  loss: 0.1577 (0.1841)  loss_classifier: 0.0632 (0.0746)  loss_box_reg: 0.0837 (0.0917)  loss_objectness: 0.0036 (0.0051)  loss_rpn_box_reg: 0.0068 (0.0127)  time: 1.3755  data: 0.0002  max mem: 8289\n",
            "Epoch: [3]  [2000/4057]  eta: 0:50:30  lr: 0.000500  loss: 0.1599 (0.1846)  loss_classifier: 0.0617 (0.0747)  loss_box_reg: 0.0656 (0.0921)  loss_objectness: 0.0026 (0.0052)  loss_rpn_box_reg: 0.0080 (0.0127)  time: 1.6299  data: 0.0005  max mem: 8289\n",
            "Epoch: [3]  [2100/4057]  eta: 0:48:05  lr: 0.000500  loss: 0.1649 (0.1847)  loss_classifier: 0.0665 (0.0747)  loss_box_reg: 0.0885 (0.0922)  loss_objectness: 0.0034 (0.0051)  loss_rpn_box_reg: 0.0099 (0.0127)  time: 1.5118  data: 0.0002  max mem: 8289\n",
            "Epoch: [3]  [2200/4057]  eta: 0:45:40  lr: 0.000500  loss: 0.1580 (0.1852)  loss_classifier: 0.0665 (0.0748)  loss_box_reg: 0.0757 (0.0925)  loss_objectness: 0.0037 (0.0051)  loss_rpn_box_reg: 0.0098 (0.0127)  time: 1.5131  data: 0.0003  max mem: 8289\n",
            "Epoch: [3]  [2300/4057]  eta: 0:43:10  lr: 0.000500  loss: 0.1750 (0.1849)  loss_classifier: 0.0717 (0.0747)  loss_box_reg: 0.0744 (0.0924)  loss_objectness: 0.0042 (0.0051)  loss_rpn_box_reg: 0.0122 (0.0127)  time: 1.4469  data: 0.0002  max mem: 8289\n",
            "Epoch: [3]  [2400/4057]  eta: 0:40:41  lr: 0.000500  loss: 0.1496 (0.1850)  loss_classifier: 0.0692 (0.0747)  loss_box_reg: 0.0661 (0.0923)  loss_objectness: 0.0037 (0.0052)  loss_rpn_box_reg: 0.0144 (0.0128)  time: 1.4889  data: 0.0004  max mem: 8289\n",
            "Epoch: [3]  [2500/4057]  eta: 0:38:11  lr: 0.000500  loss: 0.1775 (0.1853)  loss_classifier: 0.0756 (0.0748)  loss_box_reg: 0.0910 (0.0925)  loss_objectness: 0.0032 (0.0052)  loss_rpn_box_reg: 0.0133 (0.0128)  time: 1.4160  data: 0.0002  max mem: 8289\n",
            "Epoch: [3]  [2600/4057]  eta: 0:35:45  lr: 0.000500  loss: 0.1344 (0.1848)  loss_classifier: 0.0542 (0.0746)  loss_box_reg: 0.0722 (0.0923)  loss_objectness: 0.0027 (0.0051)  loss_rpn_box_reg: 0.0188 (0.0128)  time: 1.5321  data: 0.0002  max mem: 8289\n",
            "Epoch: [3]  [2700/4057]  eta: 0:33:18  lr: 0.000500  loss: 0.1558 (0.1851)  loss_classifier: 0.0669 (0.0747)  loss_box_reg: 0.0723 (0.0924)  loss_objectness: 0.0034 (0.0052)  loss_rpn_box_reg: 0.0102 (0.0128)  time: 1.5546  data: 0.0002  max mem: 8289\n",
            "Epoch: [3]  [2800/4057]  eta: 0:30:49  lr: 0.000500  loss: 0.1704 (0.1854)  loss_classifier: 0.0639 (0.0747)  loss_box_reg: 0.0932 (0.0926)  loss_objectness: 0.0054 (0.0052)  loss_rpn_box_reg: 0.0107 (0.0128)  time: 1.5053  data: 0.0002  max mem: 8289\n",
            "Epoch: [3]  [2900/4057]  eta: 0:28:21  lr: 0.000500  loss: 0.1439 (0.1851)  loss_classifier: 0.0729 (0.0746)  loss_box_reg: 0.0613 (0.0924)  loss_objectness: 0.0029 (0.0052)  loss_rpn_box_reg: 0.0084 (0.0128)  time: 1.4351  data: 0.0002  max mem: 8289\n",
            "Epoch: [3]  [3000/4057]  eta: 0:25:54  lr: 0.000500  loss: 0.1904 (0.1852)  loss_classifier: 0.0762 (0.0746)  loss_box_reg: 0.0839 (0.0926)  loss_objectness: 0.0043 (0.0052)  loss_rpn_box_reg: 0.0087 (0.0129)  time: 1.4222  data: 0.0002  max mem: 8289\n",
            "Epoch: [3]  [3100/4057]  eta: 0:23:28  lr: 0.000500  loss: 0.1779 (0.1850)  loss_classifier: 0.0660 (0.0745)  loss_box_reg: 0.0830 (0.0924)  loss_objectness: 0.0047 (0.0052)  loss_rpn_box_reg: 0.0082 (0.0128)  time: 1.5275  data: 0.0002  max mem: 8289\n",
            "Epoch: [3]  [3200/4057]  eta: 0:21:00  lr: 0.000500  loss: 0.1466 (0.1848)  loss_classifier: 0.0623 (0.0744)  loss_box_reg: 0.0729 (0.0923)  loss_objectness: 0.0032 (0.0052)  loss_rpn_box_reg: 0.0086 (0.0129)  time: 1.3557  data: 0.0003  max mem: 8289\n",
            "Epoch: [3]  [3300/4057]  eta: 0:18:33  lr: 0.000500  loss: 0.1405 (0.1846)  loss_classifier: 0.0621 (0.0744)  loss_box_reg: 0.0690 (0.0922)  loss_objectness: 0.0029 (0.0052)  loss_rpn_box_reg: 0.0113 (0.0129)  time: 1.5011  data: 0.0004  max mem: 8289\n",
            "Epoch: [3]  [3400/4057]  eta: 0:16:06  lr: 0.000500  loss: 0.1645 (0.1847)  loss_classifier: 0.0706 (0.0744)  loss_box_reg: 0.0877 (0.0924)  loss_objectness: 0.0046 (0.0052)  loss_rpn_box_reg: 0.0069 (0.0128)  time: 1.4902  data: 0.0005  max mem: 8289\n",
            "Epoch: [3]  [3500/4057]  eta: 0:13:39  lr: 0.000500  loss: 0.2027 (0.1853)  loss_classifier: 0.0740 (0.0746)  loss_box_reg: 0.1072 (0.0927)  loss_objectness: 0.0033 (0.0052)  loss_rpn_box_reg: 0.0092 (0.0128)  time: 1.4867  data: 0.0002  max mem: 8289\n",
            "Epoch: [3]  [3600/4057]  eta: 0:11:12  lr: 0.000500  loss: 0.1885 (0.1857)  loss_classifier: 0.0781 (0.0747)  loss_box_reg: 0.0899 (0.0930)  loss_objectness: 0.0038 (0.0052)  loss_rpn_box_reg: 0.0107 (0.0129)  time: 1.4421  data: 0.0002  max mem: 8289\n",
            "Epoch: [3]  [3700/4057]  eta: 0:08:45  lr: 0.000500  loss: 0.1654 (0.1855)  loss_classifier: 0.0667 (0.0746)  loss_box_reg: 0.0880 (0.0929)  loss_objectness: 0.0034 (0.0052)  loss_rpn_box_reg: 0.0091 (0.0129)  time: 1.5391  data: 0.0003  max mem: 8289\n",
            "Epoch: [3]  [3800/4057]  eta: 0:06:18  lr: 0.000500  loss: 0.1557 (0.1853)  loss_classifier: 0.0570 (0.0745)  loss_box_reg: 0.0747 (0.0927)  loss_objectness: 0.0029 (0.0052)  loss_rpn_box_reg: 0.0096 (0.0129)  time: 1.4708  data: 0.0002  max mem: 8289\n",
            "Epoch: [3]  [3900/4057]  eta: 0:03:50  lr: 0.000500  loss: 0.1619 (0.1851)  loss_classifier: 0.0647 (0.0744)  loss_box_reg: 0.0775 (0.0926)  loss_objectness: 0.0018 (0.0052)  loss_rpn_box_reg: 0.0111 (0.0128)  time: 1.3989  data: 0.0003  max mem: 8289\n",
            "Epoch: [3]  [4000/4057]  eta: 0:01:23  lr: 0.000500  loss: 0.1738 (0.1849)  loss_classifier: 0.0633 (0.0744)  loss_box_reg: 0.0984 (0.0925)  loss_objectness: 0.0024 (0.0052)  loss_rpn_box_reg: 0.0073 (0.0128)  time: 1.4978  data: 0.0004  max mem: 8289\n",
            "Epoch: [3]  [4056/4057]  eta: 0:00:01  lr: 0.000500  loss: 0.1533 (0.1848)  loss_classifier: 0.0631 (0.0743)  loss_box_reg: 0.0802 (0.0925)  loss_objectness: 0.0039 (0.0052)  loss_rpn_box_reg: 0.0093 (0.0128)  time: 1.4559  data: 0.0004  max mem: 8289\n",
            "Epoch: [3] Total time: 1:39:28 (1.4710 s / it)\n",
            "creating index...\n",
            "index created!\n",
            "Test:  [  0/225]  eta: 0:02:36  model_time: 0.4595 (0.4595)  evaluator_time: 0.0105 (0.0105)  time: 0.6944  data: 0.2230  max mem: 8289\n",
            "Test:  [100/225]  eta: 0:01:12  model_time: 0.5607 (0.5669)  evaluator_time: 0.0066 (0.0075)  time: 0.5631  data: 0.0001  max mem: 8289\n",
            "Test:  [200/225]  eta: 0:00:14  model_time: 0.5759 (0.5664)  evaluator_time: 0.0082 (0.0074)  time: 0.5990  data: 0.0001  max mem: 8289\n",
            "Test:  [224/225]  eta: 0:00:00  model_time: 0.5780 (0.5656)  evaluator_time: 0.0080 (0.0075)  time: 0.5683  data: 0.0001  max mem: 8289\n",
            "Test: Total time: 0:02:09 (0.5758 s / it)\n",
            "Averaged stats: model_time: 0.5780 (0.5656)  evaluator_time: 0.0080 (0.0075)\n",
            "Accumulating evaluation results...\n",
            "DONE (t=0.43s).\n",
            "IoU metric: bbox\n",
            " Average Precision  (AP) @[ IoU=0.50:0.95 | area=   all | maxDets=100 ] = 0.518\n",
            " Average Precision  (AP) @[ IoU=0.50      | area=   all | maxDets=100 ] = 0.785\n",
            " Average Precision  (AP) @[ IoU=0.75      | area=   all | maxDets=100 ] = 0.572\n",
            " Average Precision  (AP) @[ IoU=0.50:0.95 | area= small | maxDets=100 ] = 0.179\n",
            " Average Precision  (AP) @[ IoU=0.50:0.95 | area=medium | maxDets=100 ] = 0.425\n",
            " Average Precision  (AP) @[ IoU=0.50:0.95 | area= large | maxDets=100 ] = 0.597\n",
            " Average Recall     (AR) @[ IoU=0.50:0.95 | area=   all | maxDets=  1 ] = 0.431\n",
            " Average Recall     (AR) @[ IoU=0.50:0.95 | area=   all | maxDets= 10 ] = 0.620\n",
            " Average Recall     (AR) @[ IoU=0.50:0.95 | area=   all | maxDets=100 ] = 0.627\n",
            " Average Recall     (AR) @[ IoU=0.50:0.95 | area= small | maxDets=100 ] = 0.303\n",
            " Average Recall     (AR) @[ IoU=0.50:0.95 | area=medium | maxDets=100 ] = 0.532\n",
            " Average Recall     (AR) @[ IoU=0.50:0.95 | area= large | maxDets=100 ] = 0.692\n",
            "Epoch: [4]  [   0/4057]  eta: 2:14:30  lr: 0.000050  loss: 0.2119 (0.2119)  loss_classifier: 0.1012 (0.1012)  loss_box_reg: 0.0819 (0.0819)  loss_objectness: 0.0043 (0.0043)  loss_rpn_box_reg: 0.0245 (0.0245)  time: 1.9892  data: 0.2277  max mem: 8289\n",
            "Epoch: [4]  [ 100/4057]  eta: 1:39:03  lr: 0.000050  loss: 0.1363 (0.1669)  loss_classifier: 0.0593 (0.0678)  loss_box_reg: 0.0707 (0.0826)  loss_objectness: 0.0032 (0.0040)  loss_rpn_box_reg: 0.0061 (0.0125)  time: 1.4380  data: 0.0002  max mem: 8289\n",
            "Epoch: [4]  [ 200/4057]  eta: 1:36:02  lr: 0.000050  loss: 0.1429 (0.1722)  loss_classifier: 0.0546 (0.0687)  loss_box_reg: 0.0520 (0.0866)  loss_objectness: 0.0037 (0.0043)  loss_rpn_box_reg: 0.0059 (0.0127)  time: 1.4560  data: 0.0008  max mem: 8289\n",
            "Epoch: [4]  [ 300/4057]  eta: 1:32:57  lr: 0.000050  loss: 0.1355 (0.1703)  loss_classifier: 0.0501 (0.0673)  loss_box_reg: 0.0682 (0.0858)  loss_objectness: 0.0023 (0.0044)  loss_rpn_box_reg: 0.0111 (0.0128)  time: 1.4045  data: 0.0002  max mem: 8289\n",
            "Epoch: [4]  [ 400/4057]  eta: 1:30:08  lr: 0.000050  loss: 0.1248 (0.1705)  loss_classifier: 0.0524 (0.0672)  loss_box_reg: 0.0583 (0.0860)  loss_objectness: 0.0029 (0.0044)  loss_rpn_box_reg: 0.0083 (0.0129)  time: 1.3945  data: 0.0002  max mem: 8289\n",
            "Epoch: [4]  [ 500/4057]  eta: 1:27:40  lr: 0.000050  loss: 0.1619 (0.1712)  loss_classifier: 0.0600 (0.0677)  loss_box_reg: 0.0777 (0.0860)  loss_objectness: 0.0033 (0.0044)  loss_rpn_box_reg: 0.0136 (0.0130)  time: 1.4589  data: 0.0002  max mem: 8289\n",
            "Epoch: [4]  [ 600/4057]  eta: 1:25:06  lr: 0.000050  loss: 0.1304 (0.1729)  loss_classifier: 0.0602 (0.0683)  loss_box_reg: 0.0622 (0.0872)  loss_objectness: 0.0019 (0.0045)  loss_rpn_box_reg: 0.0066 (0.0129)  time: 1.3547  data: 0.0002  max mem: 8289\n",
            "Epoch: [4]  [ 700/4057]  eta: 1:22:31  lr: 0.000050  loss: 0.1469 (0.1725)  loss_classifier: 0.0564 (0.0682)  loss_box_reg: 0.0606 (0.0871)  loss_objectness: 0.0028 (0.0045)  loss_rpn_box_reg: 0.0095 (0.0127)  time: 1.4549  data: 0.0002  max mem: 8289\n",
            "Epoch: [4]  [ 800/4057]  eta: 1:19:52  lr: 0.000050  loss: 0.1401 (0.1726)  loss_classifier: 0.0532 (0.0684)  loss_box_reg: 0.0635 (0.0870)  loss_objectness: 0.0030 (0.0045)  loss_rpn_box_reg: 0.0082 (0.0128)  time: 1.4064  data: 0.0002  max mem: 8289\n",
            "Epoch: [4]  [ 900/4057]  eta: 1:17:20  lr: 0.000050  loss: 0.1612 (0.1735)  loss_classifier: 0.0618 (0.0689)  loss_box_reg: 0.0803 (0.0875)  loss_objectness: 0.0034 (0.0045)  loss_rpn_box_reg: 0.0102 (0.0127)  time: 1.4659  data: 0.0002  max mem: 8289\n",
            "Epoch: [4]  [1000/4057]  eta: 1:15:02  lr: 0.000050  loss: 0.1326 (0.1730)  loss_classifier: 0.0646 (0.0688)  loss_box_reg: 0.0654 (0.0872)  loss_objectness: 0.0030 (0.0045)  loss_rpn_box_reg: 0.0079 (0.0125)  time: 1.5836  data: 0.0002  max mem: 8289\n",
            "Epoch: [4]  [1100/4057]  eta: 1:12:22  lr: 0.000050  loss: 0.1503 (0.1728)  loss_classifier: 0.0602 (0.0688)  loss_box_reg: 0.0768 (0.0870)  loss_objectness: 0.0029 (0.0045)  loss_rpn_box_reg: 0.0058 (0.0125)  time: 1.4771  data: 0.0003  max mem: 8289\n",
            "Epoch: [4]  [1200/4057]  eta: 1:10:03  lr: 0.000050  loss: 0.1167 (0.1721)  loss_classifier: 0.0476 (0.0687)  loss_box_reg: 0.0636 (0.0865)  loss_objectness: 0.0032 (0.0046)  loss_rpn_box_reg: 0.0079 (0.0124)  time: 1.5119  data: 0.0003  max mem: 8289\n",
            "Epoch: [4]  [1300/4057]  eta: 1:07:42  lr: 0.000050  loss: 0.1623 (0.1738)  loss_classifier: 0.0886 (0.0694)  loss_box_reg: 0.0732 (0.0874)  loss_objectness: 0.0041 (0.0046)  loss_rpn_box_reg: 0.0102 (0.0124)  time: 1.4203  data: 0.0004  max mem: 8289\n",
            "Epoch: [4]  [1400/4057]  eta: 1:05:13  lr: 0.000050  loss: 0.1317 (0.1737)  loss_classifier: 0.0630 (0.0695)  loss_box_reg: 0.0636 (0.0872)  loss_objectness: 0.0034 (0.0046)  loss_rpn_box_reg: 0.0097 (0.0124)  time: 1.3958  data: 0.0006  max mem: 8289\n",
            "Epoch: [4]  [1500/4057]  eta: 1:02:46  lr: 0.000050  loss: 0.1121 (0.1742)  loss_classifier: 0.0447 (0.0697)  loss_box_reg: 0.0612 (0.0873)  loss_objectness: 0.0024 (0.0046)  loss_rpn_box_reg: 0.0112 (0.0125)  time: 1.5236  data: 0.0002  max mem: 8289\n",
            "Epoch: [4]  [1600/4057]  eta: 1:00:20  lr: 0.000050  loss: 0.1567 (0.1752)  loss_classifier: 0.0547 (0.0700)  loss_box_reg: 0.0844 (0.0880)  loss_objectness: 0.0023 (0.0047)  loss_rpn_box_reg: 0.0056 (0.0125)  time: 1.5895  data: 0.0002  max mem: 8289\n",
            "Epoch: [4]  [1700/4057]  eta: 0:57:54  lr: 0.000050  loss: 0.1602 (0.1756)  loss_classifier: 0.0602 (0.0701)  loss_box_reg: 0.0826 (0.0883)  loss_objectness: 0.0020 (0.0047)  loss_rpn_box_reg: 0.0104 (0.0125)  time: 1.5400  data: 0.0004  max mem: 8289\n",
            "Epoch: [4]  [1800/4057]  eta: 0:55:26  lr: 0.000050  loss: 0.2025 (0.1763)  loss_classifier: 0.0746 (0.0703)  loss_box_reg: 0.1110 (0.0887)  loss_objectness: 0.0051 (0.0047)  loss_rpn_box_reg: 0.0095 (0.0125)  time: 1.4565  data: 0.0004  max mem: 8289\n",
            "Epoch: [4]  [1900/4057]  eta: 0:53:01  lr: 0.000050  loss: 0.1194 (0.1753)  loss_classifier: 0.0483 (0.0700)  loss_box_reg: 0.0579 (0.0882)  loss_objectness: 0.0039 (0.0047)  loss_rpn_box_reg: 0.0061 (0.0124)  time: 1.4976  data: 0.0004  max mem: 8289\n",
            "Epoch: [4]  [2000/4057]  eta: 0:50:36  lr: 0.000050  loss: 0.1193 (0.1757)  loss_classifier: 0.0429 (0.0701)  loss_box_reg: 0.0600 (0.0884)  loss_objectness: 0.0026 (0.0047)  loss_rpn_box_reg: 0.0120 (0.0124)  time: 1.5490  data: 0.0003  max mem: 8289\n",
            "Epoch: [4]  [2100/4057]  eta: 0:48:08  lr: 0.000050  loss: 0.1675 (0.1759)  loss_classifier: 0.0601 (0.0702)  loss_box_reg: 0.0890 (0.0887)  loss_objectness: 0.0037 (0.0047)  loss_rpn_box_reg: 0.0077 (0.0124)  time: 1.4794  data: 0.0002  max mem: 8289\n",
            "Epoch: [4]  [2200/4057]  eta: 0:45:42  lr: 0.000050  loss: 0.1217 (0.1765)  loss_classifier: 0.0536 (0.0703)  loss_box_reg: 0.0623 (0.0890)  loss_objectness: 0.0039 (0.0047)  loss_rpn_box_reg: 0.0093 (0.0124)  time: 1.4890  data: 0.0002  max mem: 8289\n",
            "Epoch: [4]  [2300/4057]  eta: 0:43:12  lr: 0.000050  loss: 0.1325 (0.1759)  loss_classifier: 0.0553 (0.0701)  loss_box_reg: 0.0678 (0.0887)  loss_objectness: 0.0030 (0.0047)  loss_rpn_box_reg: 0.0120 (0.0124)  time: 1.4284  data: 0.0003  max mem: 8289\n",
            "Epoch: [4]  [2400/4057]  eta: 0:40:42  lr: 0.000050  loss: 0.1730 (0.1762)  loss_classifier: 0.0748 (0.0701)  loss_box_reg: 0.0981 (0.0889)  loss_objectness: 0.0032 (0.0047)  loss_rpn_box_reg: 0.0116 (0.0125)  time: 1.5007  data: 0.0004  max mem: 8289\n",
            "Epoch: [4]  [2500/4057]  eta: 0:38:14  lr: 0.000050  loss: 0.1460 (0.1762)  loss_classifier: 0.0540 (0.0702)  loss_box_reg: 0.0738 (0.0889)  loss_objectness: 0.0036 (0.0046)  loss_rpn_box_reg: 0.0109 (0.0125)  time: 1.4166  data: 0.0006  max mem: 8289\n",
            "Epoch: [4]  [2600/4057]  eta: 0:35:46  lr: 0.000050  loss: 0.1332 (0.1763)  loss_classifier: 0.0539 (0.0703)  loss_box_reg: 0.0729 (0.0890)  loss_objectness: 0.0025 (0.0046)  loss_rpn_box_reg: 0.0069 (0.0124)  time: 1.4340  data: 0.0003  max mem: 8289\n",
            "Epoch: [4]  [2700/4057]  eta: 0:33:21  lr: 0.000050  loss: 0.1132 (0.1764)  loss_classifier: 0.0400 (0.0702)  loss_box_reg: 0.0548 (0.0891)  loss_objectness: 0.0028 (0.0046)  loss_rpn_box_reg: 0.0117 (0.0125)  time: 1.5707  data: 0.0002  max mem: 8289\n",
            "Epoch: [4]  [2800/4057]  eta: 0:30:52  lr: 0.000050  loss: 0.1371 (0.1764)  loss_classifier: 0.0616 (0.0703)  loss_box_reg: 0.0747 (0.0890)  loss_objectness: 0.0032 (0.0046)  loss_rpn_box_reg: 0.0081 (0.0125)  time: 1.4570  data: 0.0002  max mem: 8289\n",
            "Epoch: [4]  [2900/4057]  eta: 0:28:24  lr: 0.000050  loss: 0.1609 (0.1759)  loss_classifier: 0.0622 (0.0700)  loss_box_reg: 0.0710 (0.0888)  loss_objectness: 0.0024 (0.0046)  loss_rpn_box_reg: 0.0118 (0.0125)  time: 1.4849  data: 0.0002  max mem: 8289\n",
            "Epoch: [4]  [3000/4057]  eta: 0:25:55  lr: 0.000050  loss: 0.1165 (0.1755)  loss_classifier: 0.0584 (0.0699)  loss_box_reg: 0.0443 (0.0885)  loss_objectness: 0.0033 (0.0046)  loss_rpn_box_reg: 0.0078 (0.0125)  time: 1.4053  data: 0.0002  max mem: 8289\n",
            "Epoch: [4]  [3100/4057]  eta: 0:23:27  lr: 0.000050  loss: 0.1643 (0.1757)  loss_classifier: 0.0636 (0.0700)  loss_box_reg: 0.0866 (0.0886)  loss_objectness: 0.0022 (0.0046)  loss_rpn_box_reg: 0.0065 (0.0125)  time: 1.3892  data: 0.0005  max mem: 8289\n",
            "Epoch: [4]  [3200/4057]  eta: 0:20:59  lr: 0.000050  loss: 0.1181 (0.1757)  loss_classifier: 0.0447 (0.0700)  loss_box_reg: 0.0693 (0.0886)  loss_objectness: 0.0024 (0.0046)  loss_rpn_box_reg: 0.0090 (0.0125)  time: 1.4288  data: 0.0002  max mem: 8289\n",
            "Epoch: [4]  [3300/4057]  eta: 0:18:32  lr: 0.000050  loss: 0.1308 (0.1754)  loss_classifier: 0.0573 (0.0699)  loss_box_reg: 0.0696 (0.0884)  loss_objectness: 0.0042 (0.0046)  loss_rpn_box_reg: 0.0072 (0.0124)  time: 1.4820  data: 0.0003  max mem: 8289\n",
            "Epoch: [4]  [3400/4057]  eta: 0:16:05  lr: 0.000050  loss: 0.1528 (0.1755)  loss_classifier: 0.0661 (0.0700)  loss_box_reg: 0.0744 (0.0884)  loss_objectness: 0.0018 (0.0046)  loss_rpn_box_reg: 0.0100 (0.0124)  time: 1.4448  data: 0.0002  max mem: 8289\n",
            "Epoch: [4]  [3500/4057]  eta: 0:13:38  lr: 0.000050  loss: 0.1498 (0.1755)  loss_classifier: 0.0612 (0.0699)  loss_box_reg: 0.0771 (0.0885)  loss_objectness: 0.0051 (0.0046)  loss_rpn_box_reg: 0.0066 (0.0124)  time: 1.4142  data: 0.0009  max mem: 8289\n",
            "Epoch: [4]  [3600/4057]  eta: 0:11:10  lr: 0.000050  loss: 0.1060 (0.1753)  loss_classifier: 0.0536 (0.0699)  loss_box_reg: 0.0565 (0.0884)  loss_objectness: 0.0022 (0.0046)  loss_rpn_box_reg: 0.0084 (0.0124)  time: 1.5026  data: 0.0002  max mem: 8289\n",
            "Epoch: [4]  [3700/4057]  eta: 0:08:43  lr: 0.000050  loss: 0.1118 (0.1751)  loss_classifier: 0.0466 (0.0697)  loss_box_reg: 0.0518 (0.0883)  loss_objectness: 0.0031 (0.0046)  loss_rpn_box_reg: 0.0072 (0.0124)  time: 1.4285  data: 0.0002  max mem: 8289\n",
            "Epoch: [4]  [3800/4057]  eta: 0:06:17  lr: 0.000050  loss: 0.1383 (0.1750)  loss_classifier: 0.0604 (0.0697)  loss_box_reg: 0.0669 (0.0883)  loss_objectness: 0.0034 (0.0046)  loss_rpn_box_reg: 0.0064 (0.0124)  time: 1.5451  data: 0.0003  max mem: 8289\n",
            "Epoch: [4]  [3900/4057]  eta: 0:03:50  lr: 0.000050  loss: 0.1212 (0.1748)  loss_classifier: 0.0536 (0.0697)  loss_box_reg: 0.0588 (0.0882)  loss_objectness: 0.0024 (0.0046)  loss_rpn_box_reg: 0.0089 (0.0124)  time: 1.4390  data: 0.0002  max mem: 8289\n",
            "Epoch: [4]  [4000/4057]  eta: 0:01:23  lr: 0.000050  loss: 0.1611 (0.1746)  loss_classifier: 0.0679 (0.0696)  loss_box_reg: 0.0816 (0.0880)  loss_objectness: 0.0025 (0.0046)  loss_rpn_box_reg: 0.0096 (0.0124)  time: 1.4319  data: 0.0002  max mem: 8289\n",
            "Epoch: [4]  [4056/4057]  eta: 0:00:01  lr: 0.000050  loss: 0.1705 (0.1747)  loss_classifier: 0.0589 (0.0696)  loss_box_reg: 0.0896 (0.0880)  loss_objectness: 0.0030 (0.0046)  loss_rpn_box_reg: 0.0127 (0.0124)  time: 1.4809  data: 0.0003  max mem: 8289\n",
            "Epoch: [4] Total time: 1:39:08 (1.4663 s / it)\n",
            "creating index...\n",
            "index created!\n",
            "Test:  [  0/225]  eta: 0:02:46  model_time: 0.4873 (0.4873)  evaluator_time: 0.0100 (0.0100)  time: 0.7379  data: 0.2391  max mem: 8289\n",
            "Test:  [100/225]  eta: 0:01:11  model_time: 0.5555 (0.5597)  evaluator_time: 0.0066 (0.0072)  time: 0.5548  data: 0.0002  max mem: 8289\n",
            "Test:  [200/225]  eta: 0:00:14  model_time: 0.5649 (0.5576)  evaluator_time: 0.0086 (0.0072)  time: 0.5885  data: 0.0003  max mem: 8289\n",
            "Test:  [224/225]  eta: 0:00:00  model_time: 0.5637 (0.5569)  evaluator_time: 0.0078 (0.0074)  time: 0.5604  data: 0.0005  max mem: 8289\n",
            "Test: Total time: 0:02:07 (0.5672 s / it)\n",
            "Averaged stats: model_time: 0.5637 (0.5569)  evaluator_time: 0.0078 (0.0074)\n",
            "Accumulating evaluation results...\n",
            "DONE (t=0.44s).\n",
            "IoU metric: bbox\n",
            " Average Precision  (AP) @[ IoU=0.50:0.95 | area=   all | maxDets=100 ] = 0.518\n",
            " Average Precision  (AP) @[ IoU=0.50      | area=   all | maxDets=100 ] = 0.787\n",
            " Average Precision  (AP) @[ IoU=0.75      | area=   all | maxDets=100 ] = 0.568\n",
            " Average Precision  (AP) @[ IoU=0.50:0.95 | area= small | maxDets=100 ] = 0.187\n",
            " Average Precision  (AP) @[ IoU=0.50:0.95 | area=medium | maxDets=100 ] = 0.415\n",
            " Average Precision  (AP) @[ IoU=0.50:0.95 | area= large | maxDets=100 ] = 0.596\n",
            " Average Recall     (AR) @[ IoU=0.50:0.95 | area=   all | maxDets=  1 ] = 0.434\n",
            " Average Recall     (AR) @[ IoU=0.50:0.95 | area=   all | maxDets= 10 ] = 0.620\n",
            " Average Recall     (AR) @[ IoU=0.50:0.95 | area=   all | maxDets=100 ] = 0.627\n",
            " Average Recall     (AR) @[ IoU=0.50:0.95 | area= small | maxDets=100 ] = 0.310\n",
            " Average Recall     (AR) @[ IoU=0.50:0.95 | area=medium | maxDets=100 ] = 0.523\n",
            " Average Recall     (AR) @[ IoU=0.50:0.95 | area= large | maxDets=100 ] = 0.692\n"
          ]
        }
      ]
    },
    {
      "cell_type": "code",
      "source": [
        "# save state dict (just in case)\n",
        "save_path = os.path.join(\"/content/gdrive/MyDrive/VLR_Project/pascal-training/saved_models\", f\"faster-rcnn-statedict_original_epochs{epochs}.pt\")\n",
        "torch.save(model.state_dict(), save_path)"
      ],
      "metadata": {
        "id": "POk4k5t_N16U"
      },
      "execution_count": null,
      "outputs": []
    },
    {
      "cell_type": "code",
      "source": [
        "# to load model again\n",
        "model = torch.load(save_path)\n",
        "model.eval()"
      ],
      "metadata": {
        "id": "Psz3WiyrFT_c"
      },
      "execution_count": null,
      "outputs": []
    },
    {
      "cell_type": "markdown",
      "source": [
        "# Get MAE/IOU for FasterRCNN on PASCAL2012 test set"
      ],
      "metadata": {
        "id": "0FXupoyHmPiF"
      }
    }
  ]
}